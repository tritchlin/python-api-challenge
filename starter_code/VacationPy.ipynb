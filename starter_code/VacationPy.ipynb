{
 "cells": [
  {
   "cell_type": "markdown",
   "metadata": {},
   "source": [
    "# VacationPy\n",
    "----\n",
    "\n",
    "#### Note\n",
    "* Keep an eye on your API usage. Use https://developers.google.com/maps/reporting/gmp-reporting as reference for how to monitor your usage and billing.\n",
    "\n",
    "* Instructions have been included for each segment. You do not have to follow them exactly, but they are included to help you think through the steps."
   ]
  },
  {
   "cell_type": "code",
   "execution_count": 1,
   "metadata": {},
   "outputs": [],
   "source": [
    "# Dependencies and Setup\n",
    "import matplotlib.pyplot as plt\n",
    "import pandas as pd\n",
    "import numpy as np\n",
    "import requests\n",
    "import gmaps\n",
    "import os\n",
    "\n",
    "# Import API key\n",
    "from api_keys import g_key"
   ]
  },
  {
   "cell_type": "markdown",
   "metadata": {},
   "source": [
    "### Store Part I results into DataFrame\n",
    "* Load the csv exported in Part I to a DataFrame"
   ]
  },
  {
   "cell_type": "code",
   "execution_count": 2,
   "metadata": {},
   "outputs": [
    {
     "output_type": "execute_result",
     "data": {
      "text/plain": [
       "              City       ID      Lat      Long  Max Temp  Humidity  \\\n",
       "0           atuona  4020109  -9.8000 -139.0333     79.29        77   \n",
       "1  plettenberg bay   964712 -34.0527   23.3716     55.27        83   \n",
       "2        bonavista  5905393  48.6499  -53.1147     64.40        99   \n",
       "3        namatanai  2090021  -3.6667  152.4333     84.25        70   \n",
       "4      broken hill  2173911 -31.9500  141.4333     55.11        58   \n",
       "\n",
       "   Cloudiness   Wind Country                      Date  \n",
       "0          22  18.81      PF  Wed Jun 23 18:37:31 2021  \n",
       "1         100   4.59      ZA  Wed Jun 23 18:37:31 2021  \n",
       "2          99  15.73      CA  Wed Jun 23 18:37:32 2021  \n",
       "3         100   3.65      PG  Wed Jun 23 18:37:32 2021  \n",
       "4           2  16.11      AU  Wed Jun 23 18:37:32 2021  "
      ],
      "text/html": "<div>\n<style scoped>\n    .dataframe tbody tr th:only-of-type {\n        vertical-align: middle;\n    }\n\n    .dataframe tbody tr th {\n        vertical-align: top;\n    }\n\n    .dataframe thead th {\n        text-align: right;\n    }\n</style>\n<table border=\"1\" class=\"dataframe\">\n  <thead>\n    <tr style=\"text-align: right;\">\n      <th></th>\n      <th>City</th>\n      <th>ID</th>\n      <th>Lat</th>\n      <th>Long</th>\n      <th>Max Temp</th>\n      <th>Humidity</th>\n      <th>Cloudiness</th>\n      <th>Wind</th>\n      <th>Country</th>\n      <th>Date</th>\n    </tr>\n  </thead>\n  <tbody>\n    <tr>\n      <th>0</th>\n      <td>atuona</td>\n      <td>4020109</td>\n      <td>-9.8000</td>\n      <td>-139.0333</td>\n      <td>79.29</td>\n      <td>77</td>\n      <td>22</td>\n      <td>18.81</td>\n      <td>PF</td>\n      <td>Wed Jun 23 18:37:31 2021</td>\n    </tr>\n    <tr>\n      <th>1</th>\n      <td>plettenberg bay</td>\n      <td>964712</td>\n      <td>-34.0527</td>\n      <td>23.3716</td>\n      <td>55.27</td>\n      <td>83</td>\n      <td>100</td>\n      <td>4.59</td>\n      <td>ZA</td>\n      <td>Wed Jun 23 18:37:31 2021</td>\n    </tr>\n    <tr>\n      <th>2</th>\n      <td>bonavista</td>\n      <td>5905393</td>\n      <td>48.6499</td>\n      <td>-53.1147</td>\n      <td>64.40</td>\n      <td>99</td>\n      <td>99</td>\n      <td>15.73</td>\n      <td>CA</td>\n      <td>Wed Jun 23 18:37:32 2021</td>\n    </tr>\n    <tr>\n      <th>3</th>\n      <td>namatanai</td>\n      <td>2090021</td>\n      <td>-3.6667</td>\n      <td>152.4333</td>\n      <td>84.25</td>\n      <td>70</td>\n      <td>100</td>\n      <td>3.65</td>\n      <td>PG</td>\n      <td>Wed Jun 23 18:37:32 2021</td>\n    </tr>\n    <tr>\n      <th>4</th>\n      <td>broken hill</td>\n      <td>2173911</td>\n      <td>-31.9500</td>\n      <td>141.4333</td>\n      <td>55.11</td>\n      <td>58</td>\n      <td>2</td>\n      <td>16.11</td>\n      <td>AU</td>\n      <td>Wed Jun 23 18:37:32 2021</td>\n    </tr>\n  </tbody>\n</table>\n</div>"
     },
     "metadata": {},
     "execution_count": 2
    }
   ],
   "source": [
    "cities_pd = pd.read_csv(\"output.csv\")\n",
    "cities_pd.head()"
   ]
  },
  {
   "cell_type": "markdown",
   "metadata": {},
   "source": [
    "### Humidity Heatmap\n",
    "* Configure gmaps.\n",
    "* Use the Lat and Lng as locations and Humidity as the weight.\n",
    "* Add Heatmap layer to map."
   ]
  },
  {
   "cell_type": "code",
   "execution_count": 3,
   "metadata": {},
   "outputs": [],
   "source": [
    "gmaps.configure(g_key)"
   ]
  },
  {
   "cell_type": "code",
   "execution_count": 4,
   "metadata": {},
   "outputs": [],
   "source": [
    "locations = cities_pd[[\"Lat\", \"Long\"]].astype(float)\n",
    "city_humidity = cities_pd[\"Humidity\"].astype(float) "
   ]
  },
  {
   "cell_type": "code",
   "execution_count": 5,
   "metadata": {},
   "outputs": [
    {
     "output_type": "display_data",
     "data": {
      "text/plain": "Figure(layout=FigureLayout(height='420px'))",
      "application/vnd.jupyter.widget-view+json": {
       "version_major": 2,
       "version_minor": 0,
       "model_id": "a53a90fdf02d454b983a6bd8806f11d4"
      }
     },
     "metadata": {}
    }
   ],
   "source": [
    "center_coord = (40.52,34.34)\n",
    "\n",
    "fig = gmaps.figure(center=center_coord,zoom_level=2)\n",
    "\n",
    "heat_layer = gmaps.heatmap_layer(locations, weights=city_humidity, \n",
    "                                 dissipating=False, max_intensity=100,\n",
    "                                 point_radius = 1)\n",
    "\n",
    "fig.add_layer(heat_layer)\n",
    "\n",
    "\n",
    "\n",
    "fig"
   ]
  },
  {
   "cell_type": "markdown",
   "metadata": {},
   "source": [
    "### Create new DataFrame fitting weather criteria\n",
    "* Narrow down the cities to fit weather conditions.\n",
    "* Drop any rows will null values."
   ]
  },
  {
   "cell_type": "code",
   "execution_count": 6,
   "metadata": {},
   "outputs": [
    {
     "output_type": "execute_result",
     "data": {
      "text/plain": [
       "                City       ID      Lat      Long  Max Temp  Humidity  \\\n",
       "0             atuona  4020109  -9.8000 -139.0333     79.29        77   \n",
       "1    plettenberg bay   964712 -34.0527   23.3716     55.27        83   \n",
       "2          bonavista  5905393  48.6499  -53.1147     64.40        99   \n",
       "3          namatanai  2090021  -3.6667  152.4333     84.25        70   \n",
       "4        broken hill  2173911 -31.9500  141.4333     55.11        58   \n",
       "..               ...      ...      ...       ...       ...       ...   \n",
       "554        pemangkat  1631637   1.1667  108.9667     78.26        85   \n",
       "555           bentiu   377472   9.2333   29.8333     72.09        81   \n",
       "556          chanika   160592  -5.4167   38.0167     59.13        98   \n",
       "557       chuguyevka  2025286  44.1653  133.8633     79.27        42   \n",
       "558            coari  3664539  -4.0850  -63.1414     74.07        86   \n",
       "\n",
       "     Cloudiness   Wind Country                      Date  \n",
       "0            22  18.81      PF  Wed Jun 23 18:37:31 2021  \n",
       "1           100   4.59      ZA  Wed Jun 23 18:37:31 2021  \n",
       "2            99  15.73      CA  Wed Jun 23 18:37:32 2021  \n",
       "3           100   3.65      PG  Wed Jun 23 18:37:32 2021  \n",
       "4             2  16.11      AU  Wed Jun 23 18:37:32 2021  \n",
       "..          ...    ...     ...                       ...  \n",
       "554          98   6.89      ID  Wed Jun 23 18:40:54 2021  \n",
       "555          38   5.30      SS  Wed Jun 23 18:40:55 2021  \n",
       "556          67   2.95      TZ  Wed Jun 23 18:40:55 2021  \n",
       "557          11   3.87      RU  Wed Jun 23 18:40:56 2021  \n",
       "558          32   2.53      BR  Wed Jun 23 18:40:56 2021  \n",
       "\n",
       "[559 rows x 10 columns]"
      ],
      "text/html": "<div>\n<style scoped>\n    .dataframe tbody tr th:only-of-type {\n        vertical-align: middle;\n    }\n\n    .dataframe tbody tr th {\n        vertical-align: top;\n    }\n\n    .dataframe thead th {\n        text-align: right;\n    }\n</style>\n<table border=\"1\" class=\"dataframe\">\n  <thead>\n    <tr style=\"text-align: right;\">\n      <th></th>\n      <th>City</th>\n      <th>ID</th>\n      <th>Lat</th>\n      <th>Long</th>\n      <th>Max Temp</th>\n      <th>Humidity</th>\n      <th>Cloudiness</th>\n      <th>Wind</th>\n      <th>Country</th>\n      <th>Date</th>\n    </tr>\n  </thead>\n  <tbody>\n    <tr>\n      <th>0</th>\n      <td>atuona</td>\n      <td>4020109</td>\n      <td>-9.8000</td>\n      <td>-139.0333</td>\n      <td>79.29</td>\n      <td>77</td>\n      <td>22</td>\n      <td>18.81</td>\n      <td>PF</td>\n      <td>Wed Jun 23 18:37:31 2021</td>\n    </tr>\n    <tr>\n      <th>1</th>\n      <td>plettenberg bay</td>\n      <td>964712</td>\n      <td>-34.0527</td>\n      <td>23.3716</td>\n      <td>55.27</td>\n      <td>83</td>\n      <td>100</td>\n      <td>4.59</td>\n      <td>ZA</td>\n      <td>Wed Jun 23 18:37:31 2021</td>\n    </tr>\n    <tr>\n      <th>2</th>\n      <td>bonavista</td>\n      <td>5905393</td>\n      <td>48.6499</td>\n      <td>-53.1147</td>\n      <td>64.40</td>\n      <td>99</td>\n      <td>99</td>\n      <td>15.73</td>\n      <td>CA</td>\n      <td>Wed Jun 23 18:37:32 2021</td>\n    </tr>\n    <tr>\n      <th>3</th>\n      <td>namatanai</td>\n      <td>2090021</td>\n      <td>-3.6667</td>\n      <td>152.4333</td>\n      <td>84.25</td>\n      <td>70</td>\n      <td>100</td>\n      <td>3.65</td>\n      <td>PG</td>\n      <td>Wed Jun 23 18:37:32 2021</td>\n    </tr>\n    <tr>\n      <th>4</th>\n      <td>broken hill</td>\n      <td>2173911</td>\n      <td>-31.9500</td>\n      <td>141.4333</td>\n      <td>55.11</td>\n      <td>58</td>\n      <td>2</td>\n      <td>16.11</td>\n      <td>AU</td>\n      <td>Wed Jun 23 18:37:32 2021</td>\n    </tr>\n    <tr>\n      <th>...</th>\n      <td>...</td>\n      <td>...</td>\n      <td>...</td>\n      <td>...</td>\n      <td>...</td>\n      <td>...</td>\n      <td>...</td>\n      <td>...</td>\n      <td>...</td>\n      <td>...</td>\n    </tr>\n    <tr>\n      <th>554</th>\n      <td>pemangkat</td>\n      <td>1631637</td>\n      <td>1.1667</td>\n      <td>108.9667</td>\n      <td>78.26</td>\n      <td>85</td>\n      <td>98</td>\n      <td>6.89</td>\n      <td>ID</td>\n      <td>Wed Jun 23 18:40:54 2021</td>\n    </tr>\n    <tr>\n      <th>555</th>\n      <td>bentiu</td>\n      <td>377472</td>\n      <td>9.2333</td>\n      <td>29.8333</td>\n      <td>72.09</td>\n      <td>81</td>\n      <td>38</td>\n      <td>5.30</td>\n      <td>SS</td>\n      <td>Wed Jun 23 18:40:55 2021</td>\n    </tr>\n    <tr>\n      <th>556</th>\n      <td>chanika</td>\n      <td>160592</td>\n      <td>-5.4167</td>\n      <td>38.0167</td>\n      <td>59.13</td>\n      <td>98</td>\n      <td>67</td>\n      <td>2.95</td>\n      <td>TZ</td>\n      <td>Wed Jun 23 18:40:55 2021</td>\n    </tr>\n    <tr>\n      <th>557</th>\n      <td>chuguyevka</td>\n      <td>2025286</td>\n      <td>44.1653</td>\n      <td>133.8633</td>\n      <td>79.27</td>\n      <td>42</td>\n      <td>11</td>\n      <td>3.87</td>\n      <td>RU</td>\n      <td>Wed Jun 23 18:40:56 2021</td>\n    </tr>\n    <tr>\n      <th>558</th>\n      <td>coari</td>\n      <td>3664539</td>\n      <td>-4.0850</td>\n      <td>-63.1414</td>\n      <td>74.07</td>\n      <td>86</td>\n      <td>32</td>\n      <td>2.53</td>\n      <td>BR</td>\n      <td>Wed Jun 23 18:40:56 2021</td>\n    </tr>\n  </tbody>\n</table>\n<p>559 rows × 10 columns</p>\n</div>"
     },
     "metadata": {},
     "execution_count": 6
    }
   ],
   "source": [
    "cities_df = pd.DataFrame(cities_pd)\n",
    "cities_df"
   ]
  },
  {
   "cell_type": "code",
   "execution_count": 7,
   "metadata": {},
   "outputs": [
    {
     "output_type": "stream",
     "name": "stdout",
     "text": [
      "47\n"
     ]
    }
   ],
   "source": [
    "# Ideal weather conditions: 75-85F, Wind Speed 5-25mph, humidity 10-60%\n",
    "\n",
    "cities_ideal = cities_df[(cities_df['Max Temp'] < 82) & \n",
    "            (cities_df['Wind'] >= 5) & (cities_df['Wind'] <= 25) & \n",
    "            (cities_df['Humidity'] >= 15) & (cities_df['Humidity'] <= 55)]\n",
    "\n",
    "cities_ideal_df = pd.DataFrame(cities_ideal)\n",
    "cities_ideal_df.dropna(inplace=True)\n",
    "print(len(cities_ideal_df))"
   ]
  },
  {
   "cell_type": "markdown",
   "metadata": {},
   "source": [
    "### Hotel Map\n",
    "* Store into variable named `hotel_df`.\n",
    "* Add a \"Hotel Name\" column to the DataFrame.\n",
    "* Set parameters to search for hotels with 5000 meters.\n",
    "* Hit the Google Places API for each city's coordinates.\n",
    "* Store the first Hotel result into the DataFrame.\n",
    "* Plot markers on top of the heatmap."
   ]
  },
  {
   "cell_type": "code",
   "execution_count": 8,
   "metadata": {},
   "outputs": [],
   "source": [
    "cities_ideal_df=cities_ideal_df.drop(columns=[\"Date\",\"ID\"])\n",
    "cities_ideal_df[\"Hotel Name\"] = \"\""
   ]
  },
  {
   "cell_type": "code",
   "execution_count": 9,
   "metadata": {},
   "outputs": [
    {
     "output_type": "stream",
     "name": "stdout",
     "text": [
      "                    City      Lat      Long  Max Temp  Humidity  Cloudiness  \\\n40           yellowknife  62.4560 -114.3525     59.56        33          20   \n68             kununurra -15.7667  128.7333     75.18        50          90   \n70             saskylakh  71.9167  114.0833     55.49        39          14   \n72             shelburne  44.0787  -80.2041     66.69        50          78   \n89          port hedland -20.3167  118.5667     59.05        51          62   \n112                dukat  62.5500  155.5500     57.87        37         100   \n123              birjand  32.8663   59.2211     59.47        20           0   \n158             cherskiy  68.7500  161.3000     66.36        27           5   \n159                korla  41.7597   86.1469     75.49        30           0   \n183            tilichiki  60.4667  166.1000     65.73        45          14   \n185                macon  39.8667  -88.9668     78.55        44           1   \n217            flin flon  54.7682 -101.8650     64.94        36         100   \n235              isangel -19.5500  169.2667     80.71        54          75   \n254               hailar  49.2000  119.7000     76.89        44           0   \n260              aklavik  68.2191 -135.0107     81.32        32          41   \n264              svitavy  49.7559   16.4683     66.36        55          78   \n265         umm kaddadah  13.6017   26.6876     81.19        46         100   \n281                asyut  27.1810   31.1837     78.98        39           0   \n283              agirish  61.9247   63.0231     53.13        49         100   \n290         komsomolskiy  40.4272   71.7189     74.12        28           0   \n301           susanville  40.4163 -120.6530     77.81        42           1   \n306                 luau -10.7073   22.2247     55.51        46           9   \n320      haines junction  60.7522 -137.5108     66.15        34         100   \n321              dunedin -45.8742  170.5036     54.81        49         100   \n341               hailun  47.4500  126.9333     81.14        37          78   \n355               urumqi  43.8010   87.6005     65.35        40           0   \n369           baker city  44.7749 -117.8344     78.51        44          20   \n396               shache  38.4167   77.2406     77.43        17          62   \n403            carnarvon -24.8667  113.6333     51.87        48           0   \n420               kaliua  -5.0606   31.7936     67.41        49         100   \n424                 elat  29.5581   34.9482     80.44        44           0   \n427      fort-shevchenko  44.5086   50.2630     81.90        29           0   \n433             karratha -20.7377  116.8463     63.03        36          33   \n443            roebourne -20.7833  117.1333     62.85        37          31   \n454              chifeng  42.2683  118.9636     76.66        50         100   \n457             udachnyy  66.4167  112.4000     66.29        54          27   \n469        santa barbara  34.7333 -120.0343     69.22        55           1   \n496             vilyuysk  63.7553  121.6247     78.84        50          52   \n498                 faya  18.3851   42.4509     69.91        17         100   \n506                rawah  34.4816   41.9093     80.94        29           0   \n513             la ronge  55.1001 -105.2842     66.45        37          90   \n519             smithers  54.7804 -127.1743     68.32        52          90   \n520        chatellerault  46.8000    0.5333     59.72        49          99   \n526                 poya -21.3500  165.1500     76.24        46          33   \n527          verkhoyansk  67.5447  133.3850     74.44        36          98   \n532               vostok  46.4856  135.8833     74.30        43          56   \n549  adolfo lopez mateos  28.4667 -107.3000     79.93        35          54   \n\n      Wind Country Hotel Name  \n40   14.97      CA             \n68   11.50      AU             \n70   10.29      RU             \n72   12.15      CA             \n89   13.80      AU             \n112   5.57      RU             \n123   6.91      IR             \n158   7.18      RU             \n159  15.05      CN             \n183   6.91      RU             \n185  13.80      US             \n217  13.20      CA             \n235  17.27      VU             \n254   5.75      CN             \n260   5.75      CA             \n264   7.74      CZ             \n265   8.52      SD             \n281  10.65      EG             \n283   5.61      RU             \n290   6.91      UZ             \n301  12.66      US             \n306   5.17      AO             \n320  10.36      CA             \n321  10.00      NZ             \n341   9.57      CN             \n355   8.95      CN             \n369   6.91      US             \n396   6.64      CN             \n403  13.80      AU             \n420   5.23      TZ             \n424  13.80      IL             \n427  11.88      KZ             \n433  21.85      AU             \n443  22.32      AU             \n454   7.63      CN             \n457  12.66      RU             \n469  16.11      US             \n496   8.01      RU             \n498   5.84      SA             \n506   8.23      IQ             \n513  11.50      CA             \n519  13.80      CA             \n520   6.08      FR             \n526   9.35      NC             \n527  13.31      RU             \n532  10.13      RU             \n549   7.02      MX             \n"
     ]
    }
   ],
   "source": [
    "print(cities_ideal_df)"
   ]
  },
  {
   "cell_type": "code",
   "execution_count": null,
   "metadata": {},
   "outputs": [],
   "source": [
    "base_url = \"https://maps.googleapis.com/maps/api/place/nearbysearch/json\"\n",
    "params = {\n",
    "    \"location\": \"39.952583,-75.16522\",  # philadelphia coords\n",
    "    \"rankby\": \"distance\",\n",
    "    \"type\": \"restaurant\",\n",
    "    \"key\": gkey,"
   ]
  },
  {
   "cell_type": "code",
   "execution_count": null,
   "metadata": {},
   "outputs": [],
   "source": []
  },
  {
   "cell_type": "code",
   "execution_count": null,
   "metadata": {},
   "outputs": [],
   "source": []
  },
  {
   "cell_type": "code",
   "execution_count": null,
   "metadata": {},
   "outputs": [],
   "source": []
  },
  {
   "cell_type": "code",
   "execution_count": null,
   "metadata": {},
   "outputs": [],
   "source": []
  },
  {
   "cell_type": "code",
   "execution_count": 10,
   "metadata": {},
   "outputs": [
    {
     "output_type": "error",
     "ename": "NameError",
     "evalue": "name 'hotel_df' is not defined",
     "traceback": [
      "\u001b[1;31m---------------------------------------------------------------------------\u001b[0m",
      "\u001b[1;31mNameError\u001b[0m                                 Traceback (most recent call last)",
      "\u001b[1;32m<ipython-input-10-464b2b3e63ad>\u001b[0m in \u001b[0;36m<module>\u001b[1;34m\u001b[0m\n\u001b[0;32m     11\u001b[0m \u001b[1;31m# Store the DataFrame Row\u001b[0m\u001b[1;33m\u001b[0m\u001b[1;33m\u001b[0m\u001b[1;33m\u001b[0m\u001b[0m\n\u001b[0;32m     12\u001b[0m \u001b[1;31m# NOTE: be sure to update with your DataFrame name\u001b[0m\u001b[1;33m\u001b[0m\u001b[1;33m\u001b[0m\u001b[1;33m\u001b[0m\u001b[0m\n\u001b[1;32m---> 13\u001b[1;33m \u001b[0mhotel_info\u001b[0m \u001b[1;33m=\u001b[0m \u001b[1;33m[\u001b[0m\u001b[0minfo_box_template\u001b[0m\u001b[1;33m.\u001b[0m\u001b[0mformat\u001b[0m\u001b[1;33m(\u001b[0m\u001b[1;33m**\u001b[0m\u001b[0mrow\u001b[0m\u001b[1;33m)\u001b[0m \u001b[1;32mfor\u001b[0m \u001b[0mindex\u001b[0m\u001b[1;33m,\u001b[0m \u001b[0mrow\u001b[0m \u001b[1;32min\u001b[0m \u001b[0mhotel_df\u001b[0m\u001b[1;33m.\u001b[0m\u001b[0miterrows\u001b[0m\u001b[1;33m(\u001b[0m\u001b[1;33m)\u001b[0m\u001b[1;33m]\u001b[0m\u001b[1;33m\u001b[0m\u001b[1;33m\u001b[0m\u001b[0m\n\u001b[0m\u001b[0;32m     14\u001b[0m \u001b[0mlocations\u001b[0m \u001b[1;33m=\u001b[0m \u001b[0mhotel_df\u001b[0m\u001b[1;33m[\u001b[0m\u001b[1;33m[\u001b[0m\u001b[1;34m\"Lat\"\u001b[0m\u001b[1;33m,\u001b[0m \u001b[1;34m\"Lng\"\u001b[0m\u001b[1;33m]\u001b[0m\u001b[1;33m]\u001b[0m\u001b[1;33m\u001b[0m\u001b[1;33m\u001b[0m\u001b[0m\n",
      "\u001b[1;31mNameError\u001b[0m: name 'hotel_df' is not defined"
     ]
    }
   ],
   "source": [
    "# NOTE: Do not change any of the code in this cell\n",
    "\n",
    "# Using the template add the hotel marks to the heatmap\n",
    "info_box_template = \"\"\"\n",
    "<dl>\n",
    "<dt>Name</dt><dd>{Hotel Name}</dd>\n",
    "<dt>City</dt><dd>{City}</dd>\n",
    "<dt>Country</dt><dd>{Country}</dd>\n",
    "</dl>\n",
    "\"\"\"\n",
    "# Store the DataFrame Row\n",
    "# NOTE: be sure to update with your DataFrame name\n",
    "hotel_info = [info_box_template.format(**row) for index, row in hotel_df.iterrows()]\n",
    "locations = hotel_df[[\"Lat\", \"Lng\"]]"
   ]
  },
  {
   "cell_type": "code",
   "execution_count": null,
   "metadata": {},
   "outputs": [],
   "source": [
    "# Add marker layer ontop of heat map\n",
    "\n",
    "\n",
    "# Display figure\n"
   ]
  },
  {
   "cell_type": "code",
   "execution_count": null,
   "metadata": {},
   "outputs": [],
   "source": []
  }
 ],
 "metadata": {
  "kernelspec": {
   "name": "python3",
   "display_name": "Python 3.8.5 64-bit ('base': conda)"
  },
  "language_info": {
   "codemirror_mode": {
    "name": "ipython",
    "version": 3
   },
   "file_extension": ".py",
   "mimetype": "text/x-python",
   "name": "python",
   "nbconvert_exporter": "python",
   "pygments_lexer": "ipython3",
   "version": "3.8.5"
  },
  "latex_envs": {
   "LaTeX_envs_menu_present": true,
   "autoclose": false,
   "autocomplete": true,
   "bibliofile": "biblio.bib",
   "cite_by": "apalike",
   "current_citInitial": 1,
   "eqLabelWithNumbers": true,
   "eqNumInitial": 1,
   "hotkeys": {
    "equation": "Ctrl-E",
    "itemize": "Ctrl-I"
   },
   "labels_anchors": false,
   "latex_user_defs": false,
   "report_style_numbering": false,
   "user_envs_cfg": false
  },
  "interpreter": {
   "hash": "529132a0304f6942232d254cf48ed3625da64896b65b1a7f769697594a4a7c46"
  }
 },
 "nbformat": 4,
 "nbformat_minor": 4
}