{
 "cells": [
  {
   "cell_type": "markdown",
   "metadata": {},
   "source": [
    "# VacationPy\n",
    "----\n",
    "\n",
    "#### Note\n",
    "* Keep an eye on your API usage. Use https://developers.google.com/maps/reporting/gmp-reporting as reference for how to monitor your usage and billing.\n",
    "\n",
    "* Instructions have been included for each segment. You do not have to follow them exactly, but they are included to help you think through the steps."
   ]
  },
  {
   "cell_type": "code",
   "execution_count": 1,
   "metadata": {},
   "outputs": [],
   "source": [
    "# Dependencies and Setup\n",
    "import matplotlib.pyplot as plt\n",
    "import pandas as pd\n",
    "import numpy as np\n",
    "import requests\n",
    "import gmaps\n",
    "import os\n",
    "import json\n",
    "from math import sin, cos, sqrt, atan2, radians\n",
    "# Module to reverse geocode hotel data. Install with \"pip install geopy\"\n",
    "import reverse_geocoder as rg\n",
    "\n",
    "# Import API key\n",
    "from api_keys import g_key"
   ]
  },
  {
   "cell_type": "markdown",
   "metadata": {},
   "source": [
    "### Store Part I results into DataFrame\n",
    "* Load the csv exported in Part I to a DataFrame"
   ]
  },
  {
   "cell_type": "code",
   "execution_count": 2,
   "metadata": {},
   "outputs": [
    {
     "data": {
      "text/html": [
       "<div>\n",
       "<style scoped>\n",
       "    .dataframe tbody tr th:only-of-type {\n",
       "        vertical-align: middle;\n",
       "    }\n",
       "\n",
       "    .dataframe tbody tr th {\n",
       "        vertical-align: top;\n",
       "    }\n",
       "\n",
       "    .dataframe thead th {\n",
       "        text-align: right;\n",
       "    }\n",
       "</style>\n",
       "<table border=\"1\" class=\"dataframe\">\n",
       "  <thead>\n",
       "    <tr style=\"text-align: right;\">\n",
       "      <th></th>\n",
       "      <th>City</th>\n",
       "      <th>ID</th>\n",
       "      <th>Lat</th>\n",
       "      <th>Long</th>\n",
       "      <th>Max Temp</th>\n",
       "      <th>Humidity</th>\n",
       "      <th>Cloudiness</th>\n",
       "      <th>Wind</th>\n",
       "      <th>Country</th>\n",
       "      <th>Date</th>\n",
       "    </tr>\n",
       "  </thead>\n",
       "  <tbody>\n",
       "    <tr>\n",
       "      <th>0</th>\n",
       "      <td>atuona</td>\n",
       "      <td>4020109</td>\n",
       "      <td>-9.8000</td>\n",
       "      <td>-139.0333</td>\n",
       "      <td>79.29</td>\n",
       "      <td>77</td>\n",
       "      <td>22</td>\n",
       "      <td>18.81</td>\n",
       "      <td>PF</td>\n",
       "      <td>Wed Jun 23 18:37:31 2021</td>\n",
       "    </tr>\n",
       "    <tr>\n",
       "      <th>1</th>\n",
       "      <td>plettenberg bay</td>\n",
       "      <td>964712</td>\n",
       "      <td>-34.0527</td>\n",
       "      <td>23.3716</td>\n",
       "      <td>55.27</td>\n",
       "      <td>83</td>\n",
       "      <td>100</td>\n",
       "      <td>4.59</td>\n",
       "      <td>ZA</td>\n",
       "      <td>Wed Jun 23 18:37:31 2021</td>\n",
       "    </tr>\n",
       "    <tr>\n",
       "      <th>2</th>\n",
       "      <td>bonavista</td>\n",
       "      <td>5905393</td>\n",
       "      <td>48.6499</td>\n",
       "      <td>-53.1147</td>\n",
       "      <td>64.40</td>\n",
       "      <td>99</td>\n",
       "      <td>99</td>\n",
       "      <td>15.73</td>\n",
       "      <td>CA</td>\n",
       "      <td>Wed Jun 23 18:37:32 2021</td>\n",
       "    </tr>\n",
       "    <tr>\n",
       "      <th>3</th>\n",
       "      <td>namatanai</td>\n",
       "      <td>2090021</td>\n",
       "      <td>-3.6667</td>\n",
       "      <td>152.4333</td>\n",
       "      <td>84.25</td>\n",
       "      <td>70</td>\n",
       "      <td>100</td>\n",
       "      <td>3.65</td>\n",
       "      <td>PG</td>\n",
       "      <td>Wed Jun 23 18:37:32 2021</td>\n",
       "    </tr>\n",
       "    <tr>\n",
       "      <th>4</th>\n",
       "      <td>broken hill</td>\n",
       "      <td>2173911</td>\n",
       "      <td>-31.9500</td>\n",
       "      <td>141.4333</td>\n",
       "      <td>55.11</td>\n",
       "      <td>58</td>\n",
       "      <td>2</td>\n",
       "      <td>16.11</td>\n",
       "      <td>AU</td>\n",
       "      <td>Wed Jun 23 18:37:32 2021</td>\n",
       "    </tr>\n",
       "  </tbody>\n",
       "</table>\n",
       "</div>"
      ],
      "text/plain": [
       "              City       ID      Lat      Long  Max Temp  Humidity  \\\n",
       "0           atuona  4020109  -9.8000 -139.0333     79.29        77   \n",
       "1  plettenberg bay   964712 -34.0527   23.3716     55.27        83   \n",
       "2        bonavista  5905393  48.6499  -53.1147     64.40        99   \n",
       "3        namatanai  2090021  -3.6667  152.4333     84.25        70   \n",
       "4      broken hill  2173911 -31.9500  141.4333     55.11        58   \n",
       "\n",
       "   Cloudiness   Wind Country                      Date  \n",
       "0          22  18.81      PF  Wed Jun 23 18:37:31 2021  \n",
       "1         100   4.59      ZA  Wed Jun 23 18:37:31 2021  \n",
       "2          99  15.73      CA  Wed Jun 23 18:37:32 2021  \n",
       "3         100   3.65      PG  Wed Jun 23 18:37:32 2021  \n",
       "4           2  16.11      AU  Wed Jun 23 18:37:32 2021  "
      ]
     },
     "execution_count": 2,
     "metadata": {},
     "output_type": "execute_result"
    }
   ],
   "source": [
    "cities_pd = pd.read_csv(\"output_data/output.csv\")\n",
    "cities_pd.head()"
   ]
  },
  {
   "cell_type": "markdown",
   "metadata": {},
   "source": [
    "### Humidity Heatmap\n",
    "* Configure gmaps.\n",
    "* Use the Lat and Lng as locations and Humidity as the weight.\n",
    "* Add Heatmap layer to map."
   ]
  },
  {
   "cell_type": "code",
   "execution_count": 3,
   "metadata": {},
   "outputs": [],
   "source": [
    "gmaps.configure(g_key)"
   ]
  },
  {
   "cell_type": "code",
   "execution_count": 4,
   "metadata": {},
   "outputs": [],
   "source": [
    "locations = cities_pd[[\"Lat\", \"Long\"]].astype(float)\n",
    "city_humidity = cities_pd[\"Humidity\"].astype(float) "
   ]
  },
  {
   "cell_type": "code",
   "execution_count": 10,
   "metadata": {},
   "outputs": [
    {
     "name": "stdout",
     "output_type": "stream",
     "text": [
      "100.0\n"
     ]
    }
   ],
   "source": [
    "heat_max = (cities_pd[\"Humidity\"].max()).astype(float)\n",
    "print(heat_max)"
   ]
  },
  {
   "cell_type": "code",
   "execution_count": 11,
   "metadata": {},
   "outputs": [
    {
     "data": {
      "application/vnd.jupyter.widget-view+json": {
       "model_id": "7efaa280cbd34c7198987c5fed15a6c3",
       "version_major": 2,
       "version_minor": 0
      },
      "text/plain": [
       "Figure(layout=FigureLayout(height='420px'))"
      ]
     },
     "metadata": {},
     "output_type": "display_data"
    }
   ],
   "source": [
    "center_coord = (40.52,34.34)\n",
    "\n",
    "fig = gmaps.figure(center=center_coord,zoom_level=2)\n",
    "\n",
    "heat_layer = gmaps.heatmap_layer(locations, weights=city_humidity, \n",
    "                                 dissipating=False, max_intensity=heat_max,\n",
    "                                 point_radius = 2)\n",
    "\n",
    "fig.add_layer(heat_layer)\n",
    "\n",
    "fig"
   ]
  },
  {
   "cell_type": "markdown",
   "metadata": {},
   "source": [
    "### Create new DataFrame fitting weather criteria\n",
    "* Narrow down the cities to fit weather conditions.\n",
    "* Drop any rows will null values."
   ]
  },
  {
   "cell_type": "code",
   "execution_count": 12,
   "metadata": {},
   "outputs": [
    {
     "data": {
      "text/html": [
       "<div>\n",
       "<style scoped>\n",
       "    .dataframe tbody tr th:only-of-type {\n",
       "        vertical-align: middle;\n",
       "    }\n",
       "\n",
       "    .dataframe tbody tr th {\n",
       "        vertical-align: top;\n",
       "    }\n",
       "\n",
       "    .dataframe thead th {\n",
       "        text-align: right;\n",
       "    }\n",
       "</style>\n",
       "<table border=\"1\" class=\"dataframe\">\n",
       "  <thead>\n",
       "    <tr style=\"text-align: right;\">\n",
       "      <th></th>\n",
       "      <th>City</th>\n",
       "      <th>ID</th>\n",
       "      <th>Lat</th>\n",
       "      <th>Long</th>\n",
       "      <th>Max Temp</th>\n",
       "      <th>Humidity</th>\n",
       "      <th>Cloudiness</th>\n",
       "      <th>Wind</th>\n",
       "      <th>Country</th>\n",
       "      <th>Date</th>\n",
       "    </tr>\n",
       "  </thead>\n",
       "  <tbody>\n",
       "    <tr>\n",
       "      <th>0</th>\n",
       "      <td>atuona</td>\n",
       "      <td>4020109</td>\n",
       "      <td>-9.8000</td>\n",
       "      <td>-139.0333</td>\n",
       "      <td>79.29</td>\n",
       "      <td>77</td>\n",
       "      <td>22</td>\n",
       "      <td>18.81</td>\n",
       "      <td>PF</td>\n",
       "      <td>Wed Jun 23 18:37:31 2021</td>\n",
       "    </tr>\n",
       "    <tr>\n",
       "      <th>1</th>\n",
       "      <td>plettenberg bay</td>\n",
       "      <td>964712</td>\n",
       "      <td>-34.0527</td>\n",
       "      <td>23.3716</td>\n",
       "      <td>55.27</td>\n",
       "      <td>83</td>\n",
       "      <td>100</td>\n",
       "      <td>4.59</td>\n",
       "      <td>ZA</td>\n",
       "      <td>Wed Jun 23 18:37:31 2021</td>\n",
       "    </tr>\n",
       "    <tr>\n",
       "      <th>2</th>\n",
       "      <td>bonavista</td>\n",
       "      <td>5905393</td>\n",
       "      <td>48.6499</td>\n",
       "      <td>-53.1147</td>\n",
       "      <td>64.40</td>\n",
       "      <td>99</td>\n",
       "      <td>99</td>\n",
       "      <td>15.73</td>\n",
       "      <td>CA</td>\n",
       "      <td>Wed Jun 23 18:37:32 2021</td>\n",
       "    </tr>\n",
       "    <tr>\n",
       "      <th>3</th>\n",
       "      <td>namatanai</td>\n",
       "      <td>2090021</td>\n",
       "      <td>-3.6667</td>\n",
       "      <td>152.4333</td>\n",
       "      <td>84.25</td>\n",
       "      <td>70</td>\n",
       "      <td>100</td>\n",
       "      <td>3.65</td>\n",
       "      <td>PG</td>\n",
       "      <td>Wed Jun 23 18:37:32 2021</td>\n",
       "    </tr>\n",
       "    <tr>\n",
       "      <th>4</th>\n",
       "      <td>broken hill</td>\n",
       "      <td>2173911</td>\n",
       "      <td>-31.9500</td>\n",
       "      <td>141.4333</td>\n",
       "      <td>55.11</td>\n",
       "      <td>58</td>\n",
       "      <td>2</td>\n",
       "      <td>16.11</td>\n",
       "      <td>AU</td>\n",
       "      <td>Wed Jun 23 18:37:32 2021</td>\n",
       "    </tr>\n",
       "    <tr>\n",
       "      <th>...</th>\n",
       "      <td>...</td>\n",
       "      <td>...</td>\n",
       "      <td>...</td>\n",
       "      <td>...</td>\n",
       "      <td>...</td>\n",
       "      <td>...</td>\n",
       "      <td>...</td>\n",
       "      <td>...</td>\n",
       "      <td>...</td>\n",
       "      <td>...</td>\n",
       "    </tr>\n",
       "    <tr>\n",
       "      <th>554</th>\n",
       "      <td>pemangkat</td>\n",
       "      <td>1631637</td>\n",
       "      <td>1.1667</td>\n",
       "      <td>108.9667</td>\n",
       "      <td>78.26</td>\n",
       "      <td>85</td>\n",
       "      <td>98</td>\n",
       "      <td>6.89</td>\n",
       "      <td>ID</td>\n",
       "      <td>Wed Jun 23 18:40:54 2021</td>\n",
       "    </tr>\n",
       "    <tr>\n",
       "      <th>555</th>\n",
       "      <td>bentiu</td>\n",
       "      <td>377472</td>\n",
       "      <td>9.2333</td>\n",
       "      <td>29.8333</td>\n",
       "      <td>72.09</td>\n",
       "      <td>81</td>\n",
       "      <td>38</td>\n",
       "      <td>5.30</td>\n",
       "      <td>SS</td>\n",
       "      <td>Wed Jun 23 18:40:55 2021</td>\n",
       "    </tr>\n",
       "    <tr>\n",
       "      <th>556</th>\n",
       "      <td>chanika</td>\n",
       "      <td>160592</td>\n",
       "      <td>-5.4167</td>\n",
       "      <td>38.0167</td>\n",
       "      <td>59.13</td>\n",
       "      <td>98</td>\n",
       "      <td>67</td>\n",
       "      <td>2.95</td>\n",
       "      <td>TZ</td>\n",
       "      <td>Wed Jun 23 18:40:55 2021</td>\n",
       "    </tr>\n",
       "    <tr>\n",
       "      <th>557</th>\n",
       "      <td>chuguyevka</td>\n",
       "      <td>2025286</td>\n",
       "      <td>44.1653</td>\n",
       "      <td>133.8633</td>\n",
       "      <td>79.27</td>\n",
       "      <td>42</td>\n",
       "      <td>11</td>\n",
       "      <td>3.87</td>\n",
       "      <td>RU</td>\n",
       "      <td>Wed Jun 23 18:40:56 2021</td>\n",
       "    </tr>\n",
       "    <tr>\n",
       "      <th>558</th>\n",
       "      <td>coari</td>\n",
       "      <td>3664539</td>\n",
       "      <td>-4.0850</td>\n",
       "      <td>-63.1414</td>\n",
       "      <td>74.07</td>\n",
       "      <td>86</td>\n",
       "      <td>32</td>\n",
       "      <td>2.53</td>\n",
       "      <td>BR</td>\n",
       "      <td>Wed Jun 23 18:40:56 2021</td>\n",
       "    </tr>\n",
       "  </tbody>\n",
       "</table>\n",
       "<p>559 rows × 10 columns</p>\n",
       "</div>"
      ],
      "text/plain": [
       "                City       ID      Lat      Long  Max Temp  Humidity  \\\n",
       "0             atuona  4020109  -9.8000 -139.0333     79.29        77   \n",
       "1    plettenberg bay   964712 -34.0527   23.3716     55.27        83   \n",
       "2          bonavista  5905393  48.6499  -53.1147     64.40        99   \n",
       "3          namatanai  2090021  -3.6667  152.4333     84.25        70   \n",
       "4        broken hill  2173911 -31.9500  141.4333     55.11        58   \n",
       "..               ...      ...      ...       ...       ...       ...   \n",
       "554        pemangkat  1631637   1.1667  108.9667     78.26        85   \n",
       "555           bentiu   377472   9.2333   29.8333     72.09        81   \n",
       "556          chanika   160592  -5.4167   38.0167     59.13        98   \n",
       "557       chuguyevka  2025286  44.1653  133.8633     79.27        42   \n",
       "558            coari  3664539  -4.0850  -63.1414     74.07        86   \n",
       "\n",
       "     Cloudiness   Wind Country                      Date  \n",
       "0            22  18.81      PF  Wed Jun 23 18:37:31 2021  \n",
       "1           100   4.59      ZA  Wed Jun 23 18:37:31 2021  \n",
       "2            99  15.73      CA  Wed Jun 23 18:37:32 2021  \n",
       "3           100   3.65      PG  Wed Jun 23 18:37:32 2021  \n",
       "4             2  16.11      AU  Wed Jun 23 18:37:32 2021  \n",
       "..          ...    ...     ...                       ...  \n",
       "554          98   6.89      ID  Wed Jun 23 18:40:54 2021  \n",
       "555          38   5.30      SS  Wed Jun 23 18:40:55 2021  \n",
       "556          67   2.95      TZ  Wed Jun 23 18:40:55 2021  \n",
       "557          11   3.87      RU  Wed Jun 23 18:40:56 2021  \n",
       "558          32   2.53      BR  Wed Jun 23 18:40:56 2021  \n",
       "\n",
       "[559 rows x 10 columns]"
      ]
     },
     "execution_count": 12,
     "metadata": {},
     "output_type": "execute_result"
    }
   ],
   "source": [
    "cities_df = pd.DataFrame(cities_pd)\n",
    "cities_df"
   ]
  },
  {
   "cell_type": "code",
   "execution_count": 13,
   "metadata": {},
   "outputs": [
    {
     "name": "stdout",
     "output_type": "stream",
     "text": [
      "47\n"
     ]
    }
   ],
   "source": [
    "# Ideal weather conditions: 75-85F, Wind Speed 5-25mph, humidity 10-60%\n",
    "\n",
    "cities_ideal = cities_df[(cities_df['Max Temp'] < 82) & \n",
    "            (cities_df['Wind'] >= 5) & (cities_df['Wind'] <= 25) & \n",
    "            (cities_df['Humidity'] >= 15) & (cities_df['Humidity'] <= 55)]\n",
    "\n",
    "cities_ideal_df = pd.DataFrame(cities_ideal)\n",
    "cities_ideal_df.dropna(inplace=True)\n",
    "print(len(cities_ideal_df))"
   ]
  },
  {
   "cell_type": "markdown",
   "metadata": {},
   "source": [
    "### Hotel Map\n",
    "* Store into variable named `hotel_df`.\n",
    "* Add a \"Hotel Name\" column to the DataFrame.\n",
    "* Set parameters to search for hotels with 5000 meters.\n",
    "* Hit the Google Places API for each city's coordinates.\n",
    "* Store the first Hotel result into the DataFrame.\n",
    "* Plot markers on top of the heatmap."
   ]
  },
  {
   "cell_type": "code",
   "execution_count": 14,
   "metadata": {},
   "outputs": [],
   "source": [
    "cities_ideal_df=cities_ideal_df.drop(columns=[\"Date\"])\n",
    "cities_ideal_df[\"Hotel Name\"] = \"\""
   ]
  },
  {
   "cell_type": "code",
   "execution_count": 15,
   "metadata": {},
   "outputs": [],
   "source": [
    "def haversine_vectorize(search_lng, search_lat, result_lon, result_lat):\n",
    "\n",
    "    search_lng, search_lat, result_lon, result_lat = map(np.radians, [search_lng, search_lat, result_lon, result_lat])\n",
    "\n",
    "    newlon = result_lon - search_lng\n",
    "    newlat = result_lat - search_lat\n",
    "\n",
    "    haver_formula = np.sin(newlat/2.0)**2 + np.cos(search_lat) * np.cos(result_lat) * np.sin(newlon/2.0)**2\n",
    "\n",
    "    dist = 2 * np.arcsin(np.sqrt(haver_formula ))\n",
    "    distance = 6367 * dist #6367 for distance in KM for miles use 3958\n",
    "    \n",
    "    return(distance)"
   ]
  },
  {
   "cell_type": "code",
   "execution_count": 16,
   "metadata": {},
   "outputs": [],
   "source": [
    "base_url = \"https://maps.googleapis.com/maps/api/place/findplacefromtext/json?input=hotel&inputtype=textquery&fields=formatted_address,name,geometry&locationbias=circle:5000@\"\n",
    "\n",
    "hotel_names = []\n",
    "hotel_lat = []\n",
    "hotel_lng = []\n",
    "\n",
    "# use iterrows to iterate through pandas dataframe\n",
    "for index, row in cities_ideal_df.iterrows():\n",
    "    search_city = row[\"City\"]\n",
    "    search_lat = row[\"Lat\"]\n",
    "    search_lng = row[\"Long\"]\n",
    "\n",
    "    # # assemble url and make API request\n",
    "    response = requests.get(f\"{base_url}{search_lat},{search_lng}&key={g_key}\").json()\n",
    "    \n",
    "    FIELDS = [\"formatted_address\",\"geometry.location.lat\",\"geometry.location.lng\",\"name\"]\n",
    "    response_df = pd.json_normalize(response[\"candidates\"])\n",
    "    response_df = response_df[FIELDS]\n",
    "\n",
    "    result_lat = response_df[\"geometry.location.lat\"].astype(float)\n",
    "    result_lon = response_df[\"geometry.location.lng\"].astype(float)\n",
    "    hotel_name = response_df[\"name\"].astype(str)\n",
    "\n",
    "    distance = int(haversine_vectorize(result_lon,result_lat,search_lng,\n",
    "                   search_lat))    \n",
    "    if distance > 5:\n",
    "       continue\n",
    "\n",
    "    hotel_names.append(hotel_name)\n",
    "    hotel_lat.append(result_lat)\n",
    "    hotel_lng.append(result_lon)"
   ]
  },
  {
   "cell_type": "code",
   "execution_count": 17,
   "metadata": {},
   "outputs": [],
   "source": [
    "name_edit = list(map(lambda x:x[0],hotel_names)) \n",
    "lat_edit = list(map(lambda x:x[0],hotel_lat)) \n",
    "lng_edit = list(map(lambda x:x[0],hotel_lng)) "
   ]
  },
  {
   "cell_type": "code",
   "execution_count": 18,
   "metadata": {},
   "outputs": [],
   "source": [
    "hotel_info_df = pd.DataFrame(list(zip(name_edit,lat_edit,lng_edit)),columns=[\"Name\",\"Lat\",\"Lng\"])"
   ]
  },
  {
   "cell_type": "code",
   "execution_count": 19,
   "metadata": {},
   "outputs": [
    {
     "name": "stdout",
     "output_type": "stream",
     "text": [
      "Loading formatted geocoded file...\n"
     ]
    }
   ],
   "source": [
    "city_list = []\n",
    "country_list = []\n",
    "\n",
    "for row in hotel_info_df.iterrows():\n",
    "    coordinates = (row[1][\"Lat\"],row[1][\"Lng\"])\n",
    "    result = rg.search(coordinates)\n",
    "    result_df = pd.DataFrame(result)\n",
    "    city_list.append(result_df['name'])\n",
    "    country_list.append(result_df['cc'])"
   ]
  },
  {
   "cell_type": "code",
   "execution_count": 20,
   "metadata": {},
   "outputs": [],
   "source": [
    "city_list = list(map(lambda x:x[0],city_list)) \n",
    "country_list = list(map(lambda x:x[0],country_list)) \n",
    "\n",
    "hotel_df = pd.DataFrame(list(zip(name_edit,city_list,country_list,lat_edit,lng_edit)),columns=[\"Hotel Name\",\"City\",\"Country\",\"Lat\",\"Lng\"])"
   ]
  },
  {
   "cell_type": "code",
   "execution_count": 21,
   "metadata": {},
   "outputs": [],
   "source": [
    "# NOTE: Do not change any of the code in this cell\n",
    "\n",
    "# Using the template add the hotel marks to the heatmap\n",
    "info_box_template = \"\"\"\n",
    "<dl>\n",
    "<dt>Name</dt><dd>{Hotel Name}</dd>\n",
    "<dt>City</dt><dd>{City}</dd>\n",
    "<dt>Country</dt><dd>{Country}</dd>\n",
    "</dl>\n",
    "\"\"\"\n",
    "# Store the DataFrame Row\n",
    "# NOTE: be sure to update with your DataFrame name\n",
    "hotel_info = [info_box_template.format(**row) for index, row in hotel_df.iterrows()]\n",
    "locations = hotel_df[[\"Lat\", \"Lng\"]]"
   ]
  },
  {
   "cell_type": "code",
   "execution_count": 22,
   "metadata": {},
   "outputs": [
    {
     "data": {
      "application/vnd.jupyter.widget-view+json": {
       "model_id": "7efaa280cbd34c7198987c5fed15a6c3",
       "version_major": 2,
       "version_minor": 0
      },
      "text/plain": [
       "Figure(layout=FigureLayout(height='420px'))"
      ]
     },
     "metadata": {},
     "output_type": "display_data"
    }
   ],
   "source": [
    "# Add marker layer ontop of heat map\n",
    "marker_locations = hotel_df[[\"Lat\", \"Lng\"]]\n",
    "markers = gmaps.marker_layer(marker_locations,\n",
    "    info_box_content=[info_box_template.format(**row) for index, row in hotel_df.iterrows()])\n",
    "\n",
    "fig.add_layer(markers)\n",
    "\n",
    "# Display figure\n",
    "fig"
   ]
  }
 ],
 "metadata": {
  "interpreter": {
   "hash": "03e16bf20b38c5bc3bf00c976c15238982088169e9834c6084af3096887b3e40"
  },
  "kernelspec": {
   "display_name": "Python [conda env:PythonData] *",
   "language": "python",
   "name": "conda-env-PythonData-py"
  },
  "language_info": {
   "codemirror_mode": {
    "name": "ipython",
    "version": 3
   },
   "file_extension": ".py",
   "mimetype": "text/x-python",
   "name": "python",
   "nbconvert_exporter": "python",
   "pygments_lexer": "ipython3",
   "version": "3.6.10"
  },
  "latex_envs": {
   "LaTeX_envs_menu_present": true,
   "autoclose": false,
   "autocomplete": true,
   "bibliofile": "biblio.bib",
   "cite_by": "apalike",
   "current_citInitial": 1,
   "eqLabelWithNumbers": true,
   "eqNumInitial": 1,
   "hotkeys": {
    "equation": "Ctrl-E",
    "itemize": "Ctrl-I"
   },
   "labels_anchors": false,
   "latex_user_defs": false,
   "report_style_numbering": false,
   "user_envs_cfg": false
  }
 },
 "nbformat": 4,
 "nbformat_minor": 4
}