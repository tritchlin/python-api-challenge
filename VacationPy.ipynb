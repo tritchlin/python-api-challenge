{
 "cells": [
  {
   "cell_type": "markdown",
   "metadata": {},
   "source": [
    "# VacationPy\n",
    "----\n",
    "\n",
    "#### Note\n",
    "* Keep an eye on your API usage. Use https://developers.google.com/maps/reporting/gmp-reporting as reference for how to monitor your usage and billing.\n",
    "\n",
    "* Instructions have been included for each segment. You do not have to follow them exactly, but they are included to help you think through the steps."
   ]
  },
  {
   "cell_type": "code",
   "execution_count": 1,
   "metadata": {},
   "outputs": [],
   "source": [
    "# Dependencies and Setup\n",
    "import matplotlib.pyplot as plt\n",
    "import pandas as pd\n",
    "import numpy as np\n",
    "import requests\n",
    "import gmaps\n",
    "import os\n",
    "import json\n",
    "from math import sin, cos, sqrt, atan2, radians\n",
    "# Module to reverse geocode hotel data. Install with \"pip install geopy\"\n",
    "import reverse_geocoder as rg\n",
    "\n",
    "# Import API key\n",
    "from api_keys import g_key"
   ]
  },
  {
   "cell_type": "markdown",
   "metadata": {},
   "source": [
    "### Store Part I results into DataFrame"
   ]
  },
  {
   "cell_type": "code",
   "execution_count": 2,
   "metadata": {},
   "outputs": [
    {
     "output_type": "execute_result",
     "data": {
      "text/plain": [
       "          City       ID      Lat      Long  Max Temp  Humidity  Cloudiness  \\\n",
       "0  yellowknife  6185377  62.4560 -114.3525     67.96        43           5   \n",
       "1       atuona  4020109  -9.8000 -139.0333     78.94        66           6   \n",
       "2  san quintin  3984997  30.4833 -115.9500     64.20        84           0   \n",
       "3       hasaki  2112802  35.7333  140.8333     79.18        81         100   \n",
       "4  port alfred   964432 -33.5906   26.8910     53.40        79          61   \n",
       "\n",
       "    Wind Country                      Date  \n",
       "0  12.17      CA  Sat Jun 26 21:11:20 2021  \n",
       "1  21.25      PF  Sat Jun 26 21:11:20 2021  \n",
       "2  11.56      MX  Sat Jun 26 21:11:20 2021  \n",
       "3   8.34      JP  Sat Jun 26 21:11:21 2021  \n",
       "4   6.78      ZA  Sat Jun 26 21:11:21 2021  "
      ],
      "text/html": "<div>\n<style scoped>\n    .dataframe tbody tr th:only-of-type {\n        vertical-align: middle;\n    }\n\n    .dataframe tbody tr th {\n        vertical-align: top;\n    }\n\n    .dataframe thead th {\n        text-align: right;\n    }\n</style>\n<table border=\"1\" class=\"dataframe\">\n  <thead>\n    <tr style=\"text-align: right;\">\n      <th></th>\n      <th>City</th>\n      <th>ID</th>\n      <th>Lat</th>\n      <th>Long</th>\n      <th>Max Temp</th>\n      <th>Humidity</th>\n      <th>Cloudiness</th>\n      <th>Wind</th>\n      <th>Country</th>\n      <th>Date</th>\n    </tr>\n  </thead>\n  <tbody>\n    <tr>\n      <th>0</th>\n      <td>yellowknife</td>\n      <td>6185377</td>\n      <td>62.4560</td>\n      <td>-114.3525</td>\n      <td>67.96</td>\n      <td>43</td>\n      <td>5</td>\n      <td>12.17</td>\n      <td>CA</td>\n      <td>Sat Jun 26 21:11:20 2021</td>\n    </tr>\n    <tr>\n      <th>1</th>\n      <td>atuona</td>\n      <td>4020109</td>\n      <td>-9.8000</td>\n      <td>-139.0333</td>\n      <td>78.94</td>\n      <td>66</td>\n      <td>6</td>\n      <td>21.25</td>\n      <td>PF</td>\n      <td>Sat Jun 26 21:11:20 2021</td>\n    </tr>\n    <tr>\n      <th>2</th>\n      <td>san quintin</td>\n      <td>3984997</td>\n      <td>30.4833</td>\n      <td>-115.9500</td>\n      <td>64.20</td>\n      <td>84</td>\n      <td>0</td>\n      <td>11.56</td>\n      <td>MX</td>\n      <td>Sat Jun 26 21:11:20 2021</td>\n    </tr>\n    <tr>\n      <th>3</th>\n      <td>hasaki</td>\n      <td>2112802</td>\n      <td>35.7333</td>\n      <td>140.8333</td>\n      <td>79.18</td>\n      <td>81</td>\n      <td>100</td>\n      <td>8.34</td>\n      <td>JP</td>\n      <td>Sat Jun 26 21:11:21 2021</td>\n    </tr>\n    <tr>\n      <th>4</th>\n      <td>port alfred</td>\n      <td>964432</td>\n      <td>-33.5906</td>\n      <td>26.8910</td>\n      <td>53.40</td>\n      <td>79</td>\n      <td>61</td>\n      <td>6.78</td>\n      <td>ZA</td>\n      <td>Sat Jun 26 21:11:21 2021</td>\n    </tr>\n  </tbody>\n</table>\n</div>"
     },
     "metadata": {},
     "execution_count": 2
    }
   ],
   "source": [
    "# Load the csv exported in Part I to a DataFrame\n",
    "\n",
    "cities_pd = pd.read_csv(\"output_data/output.csv\")\n",
    "cities_pd.head()"
   ]
  },
  {
   "cell_type": "markdown",
   "metadata": {},
   "source": [
    "### Humidity Heatmap"
   ]
  },
  {
   "cell_type": "code",
   "execution_count": 3,
   "metadata": {},
   "outputs": [],
   "source": [
    "#Configure gmaps, load API key\n",
    "\n",
    "gmaps.configure(g_key)"
   ]
  },
  {
   "cell_type": "code",
   "execution_count": 4,
   "metadata": {},
   "outputs": [],
   "source": [
    "# Use the Lat and Lng as locations and Humidity as the weight.\n",
    "\n",
    "locations = cities_pd[[\"Lat\", \"Long\"]].astype(float)\n",
    "city_humidity = cities_pd[\"Humidity\"].astype(float) "
   ]
  },
  {
   "cell_type": "code",
   "execution_count": 5,
   "metadata": {},
   "outputs": [
    {
     "output_type": "stream",
     "name": "stdout",
     "text": [
      "100.0\n"
     ]
    }
   ],
   "source": [
    "# Identify highest humidity level for weight\n",
    "\n",
    "heat_max = (cities_pd[\"Humidity\"].max()).astype(float)\n",
    "print(heat_max)"
   ]
  },
  {
   "cell_type": "code",
   "execution_count": 6,
   "metadata": {},
   "outputs": [
    {
     "output_type": "display_data",
     "data": {
      "text/plain": "Figure(layout=FigureLayout(height='420px'))",
      "application/vnd.jupyter.widget-view+json": {
       "version_major": 2,
       "version_minor": 0,
       "model_id": "fa3fa1c578e44ed9a4595f620a862ea0"
      }
     },
     "metadata": {}
    }
   ],
   "source": [
    "# Print heat map\n",
    "\n",
    "center_coord = (40.52,34.34)\n",
    "fig = gmaps.figure(center=center_coord,zoom_level=2)\n",
    "heat_layer = gmaps.heatmap_layer(locations, weights=city_humidity, \n",
    "                                 dissipating=False, max_intensity=heat_max,\n",
    "                                 point_radius = 2)\n",
    "fig.add_layer(heat_layer)\n",
    "fig"
   ]
  },
  {
   "cell_type": "markdown",
   "metadata": {},
   "source": [
    "### Create new DataFrame fitting weather criteria\n",
    "* Narrow down the cities to fit weather conditions.\n",
    "* Drop any rows will null values."
   ]
  },
  {
   "cell_type": "code",
   "execution_count": 7,
   "metadata": {},
   "outputs": [
    {
     "output_type": "execute_result",
     "data": {
      "text/plain": [
       "             City       ID      Lat      Long  Max Temp  Humidity  Cloudiness  \\\n",
       "0     yellowknife  6185377  62.4560 -114.3525     67.96        43           5   \n",
       "1          atuona  4020109  -9.8000 -139.0333     78.94        66           6   \n",
       "2     san quintin  3984997  30.4833 -115.9500     64.20        84           0   \n",
       "3          hasaki  2112802  35.7333  140.8333     79.18        81         100   \n",
       "4     port alfred   964432 -33.5906   26.8910     53.40        79          61   \n",
       "..            ...      ...      ...       ...       ...       ...         ...   \n",
       "556  lappeenranta   648900  61.0587   28.1887     64.45       100          90   \n",
       "557     mogadishu    53654   2.0371   45.3438     77.77        83          81   \n",
       "558        arzgir   580716  45.3728   44.2206     76.35        64          97   \n",
       "559   nuevo ideal  3994607  24.8875 -105.0728     72.00        30          11   \n",
       "560         edson  5946820  53.5835 -116.4356     68.29        71           7   \n",
       "\n",
       "      Wind Country                      Date  \n",
       "0    12.17      CA  Sat Jun 26 21:11:20 2021  \n",
       "1    21.25      PF  Sat Jun 26 21:11:20 2021  \n",
       "2    11.56      MX  Sat Jun 26 21:11:20 2021  \n",
       "3     8.34      JP  Sat Jun 26 21:11:21 2021  \n",
       "4     6.78      ZA  Sat Jun 26 21:11:21 2021  \n",
       "..     ...     ...                       ...  \n",
       "556   3.44      FI  Sat Jun 26 21:10:30 2021  \n",
       "557  14.85      SO  Sat Jun 26 21:10:09 2021  \n",
       "558  14.99      RU  Sat Jun 26 21:14:36 2021  \n",
       "559   6.73      MX  Sat Jun 26 21:14:37 2021  \n",
       "560   3.44      CA  Sat Jun 26 21:14:37 2021  \n",
       "\n",
       "[561 rows x 10 columns]"
      ],
      "text/html": "<div>\n<style scoped>\n    .dataframe tbody tr th:only-of-type {\n        vertical-align: middle;\n    }\n\n    .dataframe tbody tr th {\n        vertical-align: top;\n    }\n\n    .dataframe thead th {\n        text-align: right;\n    }\n</style>\n<table border=\"1\" class=\"dataframe\">\n  <thead>\n    <tr style=\"text-align: right;\">\n      <th></th>\n      <th>City</th>\n      <th>ID</th>\n      <th>Lat</th>\n      <th>Long</th>\n      <th>Max Temp</th>\n      <th>Humidity</th>\n      <th>Cloudiness</th>\n      <th>Wind</th>\n      <th>Country</th>\n      <th>Date</th>\n    </tr>\n  </thead>\n  <tbody>\n    <tr>\n      <th>0</th>\n      <td>yellowknife</td>\n      <td>6185377</td>\n      <td>62.4560</td>\n      <td>-114.3525</td>\n      <td>67.96</td>\n      <td>43</td>\n      <td>5</td>\n      <td>12.17</td>\n      <td>CA</td>\n      <td>Sat Jun 26 21:11:20 2021</td>\n    </tr>\n    <tr>\n      <th>1</th>\n      <td>atuona</td>\n      <td>4020109</td>\n      <td>-9.8000</td>\n      <td>-139.0333</td>\n      <td>78.94</td>\n      <td>66</td>\n      <td>6</td>\n      <td>21.25</td>\n      <td>PF</td>\n      <td>Sat Jun 26 21:11:20 2021</td>\n    </tr>\n    <tr>\n      <th>2</th>\n      <td>san quintin</td>\n      <td>3984997</td>\n      <td>30.4833</td>\n      <td>-115.9500</td>\n      <td>64.20</td>\n      <td>84</td>\n      <td>0</td>\n      <td>11.56</td>\n      <td>MX</td>\n      <td>Sat Jun 26 21:11:20 2021</td>\n    </tr>\n    <tr>\n      <th>3</th>\n      <td>hasaki</td>\n      <td>2112802</td>\n      <td>35.7333</td>\n      <td>140.8333</td>\n      <td>79.18</td>\n      <td>81</td>\n      <td>100</td>\n      <td>8.34</td>\n      <td>JP</td>\n      <td>Sat Jun 26 21:11:21 2021</td>\n    </tr>\n    <tr>\n      <th>4</th>\n      <td>port alfred</td>\n      <td>964432</td>\n      <td>-33.5906</td>\n      <td>26.8910</td>\n      <td>53.40</td>\n      <td>79</td>\n      <td>61</td>\n      <td>6.78</td>\n      <td>ZA</td>\n      <td>Sat Jun 26 21:11:21 2021</td>\n    </tr>\n    <tr>\n      <th>...</th>\n      <td>...</td>\n      <td>...</td>\n      <td>...</td>\n      <td>...</td>\n      <td>...</td>\n      <td>...</td>\n      <td>...</td>\n      <td>...</td>\n      <td>...</td>\n      <td>...</td>\n    </tr>\n    <tr>\n      <th>556</th>\n      <td>lappeenranta</td>\n      <td>648900</td>\n      <td>61.0587</td>\n      <td>28.1887</td>\n      <td>64.45</td>\n      <td>100</td>\n      <td>90</td>\n      <td>3.44</td>\n      <td>FI</td>\n      <td>Sat Jun 26 21:10:30 2021</td>\n    </tr>\n    <tr>\n      <th>557</th>\n      <td>mogadishu</td>\n      <td>53654</td>\n      <td>2.0371</td>\n      <td>45.3438</td>\n      <td>77.77</td>\n      <td>83</td>\n      <td>81</td>\n      <td>14.85</td>\n      <td>SO</td>\n      <td>Sat Jun 26 21:10:09 2021</td>\n    </tr>\n    <tr>\n      <th>558</th>\n      <td>arzgir</td>\n      <td>580716</td>\n      <td>45.3728</td>\n      <td>44.2206</td>\n      <td>76.35</td>\n      <td>64</td>\n      <td>97</td>\n      <td>14.99</td>\n      <td>RU</td>\n      <td>Sat Jun 26 21:14:36 2021</td>\n    </tr>\n    <tr>\n      <th>559</th>\n      <td>nuevo ideal</td>\n      <td>3994607</td>\n      <td>24.8875</td>\n      <td>-105.0728</td>\n      <td>72.00</td>\n      <td>30</td>\n      <td>11</td>\n      <td>6.73</td>\n      <td>MX</td>\n      <td>Sat Jun 26 21:14:37 2021</td>\n    </tr>\n    <tr>\n      <th>560</th>\n      <td>edson</td>\n      <td>5946820</td>\n      <td>53.5835</td>\n      <td>-116.4356</td>\n      <td>68.29</td>\n      <td>71</td>\n      <td>7</td>\n      <td>3.44</td>\n      <td>CA</td>\n      <td>Sat Jun 26 21:14:37 2021</td>\n    </tr>\n  </tbody>\n</table>\n<p>561 rows × 10 columns</p>\n</div>"
     },
     "metadata": {},
     "execution_count": 7
    }
   ],
   "source": [
    "# Preview DataFrame to verify structure\n",
    "\n",
    "cities_df = pd.DataFrame(cities_pd)\n",
    "cities_df"
   ]
  },
  {
   "cell_type": "code",
   "execution_count": 8,
   "metadata": {},
   "outputs": [
    {
     "output_type": "stream",
     "name": "stdout",
     "text": [
      "46\n"
     ]
    }
   ],
   "source": [
    "# Ideal weather conditions: 75-85F, Wind Speed 5-25mph, humidity 10-60%. Confirm reasonable results count\n",
    "\n",
    "cities_ideal = cities_df[(cities_df['Max Temp'] < 82) & \n",
    "            (cities_df['Wind'] >= 5) & (cities_df['Wind'] <= 25) & \n",
    "            (cities_df['Humidity'] >= 15) & (cities_df['Humidity'] <= 55)]\n",
    "\n",
    "cities_ideal_df = pd.DataFrame(cities_ideal)\n",
    "cities_ideal_df.dropna(inplace=True)\n",
    "print(len(cities_ideal_df))"
   ]
  },
  {
   "cell_type": "markdown",
   "metadata": {},
   "source": [
    "### Hotel Map\n",
    "* Store into variable named `hotel_df`.\n",
    "* Add a \"Hotel Name\" column to the DataFrame.\n",
    "* Set parameters to search for hotels with 5000 meters.\n",
    "* Hit the Google Places API for each city's coordinates.\n",
    "* Store the first Hotel result into the DataFrame.\n",
    "* Plot markers on top of the heatmap."
   ]
  },
  {
   "cell_type": "code",
   "execution_count": 9,
   "metadata": {},
   "outputs": [],
   "source": [
    "# Data cleaning\n",
    "\n",
    "cities_ideal_df=cities_ideal_df.drop(columns=[\"Date\"])\n",
    "cities_ideal_df[\"Hotel Name\"] = \"\""
   ]
  },
  {
   "cell_type": "code",
   "execution_count": 10,
   "metadata": {},
   "outputs": [],
   "source": [
    "# Create function to verify search result distance. This is to counter Google's default of using home IP address lat/long if no result is found.\n",
    "\n",
    "def geospatial(search_lng, search_lat, result_lon, result_lat):\n",
    "    R = 6373.0\n",
    "\n",
    "    lat1 = radians(search_lat)\n",
    "    lon1 = radians(search_lng)\n",
    "    lat2 = radians(result_lat)\n",
    "    lon2 = radians(result_lon)\n",
    "\n",
    "    dlon = lon2 - lon1\n",
    "    dlat = lat2 - lat1\n",
    "\n",
    "    a = sin(dlat / 2)**2 + cos(lat1) * cos(lat2) * sin(dlon / 2)**2\n",
    "    c = 2 * atan2(sqrt(a), sqrt(1 - a))\n",
    "\n",
    "    distance = R * c\n",
    "    return(distance)"
   ]
  },
  {
   "cell_type": "code",
   "execution_count": 11,
   "metadata": {},
   "outputs": [],
   "source": [
    "base_url = \"https://maps.googleapis.com/maps/api/place/findplacefromtext/json?input=hotel&inputtype=textquery&fields=formatted_address,name,geometry&locationbias=circle:5000@\"\n",
    "\n",
    "hotel_names = []\n",
    "hotel_lat = []\n",
    "hotel_lng = []\n",
    "\n",
    "# use iterrows to iterate through pandas dataframe\n",
    "for index, row in cities_ideal_df.iterrows():\n",
    "    search_city = row[\"City\"]\n",
    "    search_lat = row[\"Lat\"]\n",
    "    search_lng = row[\"Long\"]\n",
    "\n",
    "    # assemble url and make API request\n",
    "    response = requests.get(f\"{base_url}{search_lat},{search_lng}&key={g_key}\").json()\n",
    "    candidates = response['candidates'][0]\n",
    "\n",
    "    result_lat = candidates['geometry']['location']['lat']\n",
    "    result_lon = candidates['geometry']['location']['lng']\n",
    "    hotel_name = candidates['name']\n",
    "\n",
    "   # Verify results are within 5000m, otherwise skip row.\n",
    "    distance = geospatial(search_lng, search_lat, result_lon, result_lat)\n",
    "    if distance > 5:\n",
    "       continue\n",
    "\n",
    "    hotel_names.append(hotel_name)\n",
    "    hotel_lat.append(result_lat)\n",
    "    hotel_lng.append(result_lon)"
   ]
  },
  {
   "cell_type": "code",
   "execution_count": 12,
   "metadata": {},
   "outputs": [],
   "source": [
    "# Create DataFrame with just hotel information\n",
    "\n",
    "hotel_info_df = pd.DataFrame(list(zip(hotel_names,hotel_lat,hotel_lng)),columns=[\"Name\",\"Lat\",\"Lng\"])"
   ]
  },
  {
   "cell_type": "code",
   "execution_count": 13,
   "metadata": {},
   "outputs": [
    {
     "output_type": "stream",
     "name": "stdout",
     "text": [
      "Loading formatted geocoded file...\n"
     ]
    }
   ],
   "source": [
    "# Retrieve hotel's city and country using reverse geocode search. Note that reverse_geocoder must be installed for this to work.\n",
    "\n",
    "city_list = []\n",
    "country_list = []\n",
    "\n",
    "for row in hotel_info_df.iterrows():\n",
    "    coordinates = (row[1][\"Lat\"],row[1][\"Lng\"])\n",
    "    result = rg.search(coordinates)\n",
    "    result_df = pd.DataFrame(result)\n",
    "    city_list.append(result_df['name'])\n",
    "    country_list.append(result_df['cc'])"
   ]
  },
  {
   "cell_type": "code",
   "execution_count": 14,
   "metadata": {},
   "outputs": [],
   "source": [
    "# Finalize Hotel DataFrame by adding City and Country\n",
    "\n",
    "city_list = list(map(lambda x:x[0],city_list)) \n",
    "country_list = list(map(lambda x:x[0],country_list)) \n",
    "\n",
    "hotel_df = pd.DataFrame(list(zip(hotel_names,city_list,country_list,hotel_lat,hotel_lng)),columns=[\"Hotel Name\",\"City\",\"Country\",\"Lat\",\"Lng\"])"
   ]
  },
  {
   "cell_type": "code",
   "execution_count": 15,
   "metadata": {},
   "outputs": [],
   "source": [
    "# NOTE: Do not change any of the code in this cell\n",
    "\n",
    "# Using the template add the hotel marks to the heatmap\n",
    "info_box_template = \"\"\"\n",
    "<dl>\n",
    "<dt>Name</dt><dd>{Hotel Name}</dd>\n",
    "<dt>City</dt><dd>{City}</dd>\n",
    "<dt>Country</dt><dd>{Country}</dd>\n",
    "</dl>\n",
    "\"\"\"\n",
    "# Store the DataFrame Row\n",
    "# NOTE: be sure to update with your DataFrame name\n",
    "hotel_info = [info_box_template.format(**row) for index, row in hotel_df.iterrows()]\n",
    "locations = hotel_df[[\"Lat\", \"Lng\"]]"
   ]
  },
  {
   "cell_type": "code",
   "execution_count": 16,
   "metadata": {},
   "outputs": [
    {
     "output_type": "display_data",
     "data": {
      "text/plain": "Figure(layout=FigureLayout(height='420px'))",
      "application/vnd.jupyter.widget-view+json": {
       "version_major": 2,
       "version_minor": 0,
       "model_id": "fa3fa1c578e44ed9a4595f620a862ea0"
      }
     },
     "metadata": {}
    }
   ],
   "source": [
    "# Add marker layer ontop of heat map\n",
    "marker_locations = hotel_df[[\"Lat\", \"Lng\"]]\n",
    "markers = gmaps.marker_layer(marker_locations,\n",
    "    info_box_content=[info_box_template.format(**row) for index, row in hotel_df.iterrows()])\n",
    "\n",
    "fig.add_layer(markers)\n",
    "\n",
    "# Display figure\n",
    "fig"
   ]
  },
  {
   "cell_type": "code",
   "execution_count": null,
   "metadata": {},
   "outputs": [],
   "source": []
  }
 ],
 "metadata": {
  "interpreter": {
   "hash": "03e16bf20b38c5bc3bf00c976c15238982088169e9834c6084af3096887b3e40"
  },
  "kernelspec": {
   "name": "python3",
   "display_name": "Python 3.6.10 64-bit ('PythonData': conda)"
  },
  "language_info": {
   "codemirror_mode": {
    "name": "ipython",
    "version": 3
   },
   "file_extension": ".py",
   "mimetype": "text/x-python",
   "name": "python",
   "nbconvert_exporter": "python",
   "pygments_lexer": "ipython3",
   "version": "3.6.10"
  },
  "latex_envs": {
   "LaTeX_envs_menu_present": true,
   "autoclose": false,
   "autocomplete": true,
   "bibliofile": "biblio.bib",
   "cite_by": "apalike",
   "current_citInitial": 1,
   "eqLabelWithNumbers": true,
   "eqNumInitial": 1,
   "hotkeys": {
    "equation": "Ctrl-E",
    "itemize": "Ctrl-I"
   },
   "labels_anchors": false,
   "latex_user_defs": false,
   "report_style_numbering": false,
   "user_envs_cfg": false
  }
 },
 "nbformat": 4,
 "nbformat_minor": 4
}