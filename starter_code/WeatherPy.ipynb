{
 "cells": [
  {
   "cell_type": "markdown",
   "metadata": {},
   "source": [
    "# WeatherPy\n",
    "----\n",
    "\n",
    "#### Note\n",
    "* Instructions have been included for each segment. You do not have to follow them exactly, but they are included to help you think through the steps."
   ]
  },
  {
   "cell_type": "code",
   "execution_count": 1,
   "metadata": {
    "scrolled": true
   },
   "outputs": [],
   "source": [
    "# Dependencies and Setup\n",
    "import matplotlib.pyplot as plt\n",
    "import pandas as pd\n",
    "import numpy as np\n",
    "import requests\n",
    "import time\n",
    "from scipy.stats import linregress\n",
    "import importlib\n",
    "import csv\n",
    "import json\n",
    "from pandas.io.json import json_normalize\n",
    "\n",
    "\n",
    "# Import API key\n",
    "from api_keys import weather_api_key\n",
    "\n",
    "# Incorporated citipy to determine city based on latitude and longitude\n",
    "from citipy import citipy\n",
    "\n",
    "# Output File (CSV)\n",
    "output_data_file = \"output_data/cities.csv\"\n",
    "\n",
    "# Range of latitudes and longitudes\n",
    "lat_range = (-90, 90)\n",
    "lng_range = (-180, 180)"
   ]
  },
  {
   "cell_type": "markdown",
   "metadata": {},
   "source": [
    "## Generate Cities List"
   ]
  },
  {
   "cell_type": "code",
   "execution_count": 2,
   "metadata": {},
   "outputs": [],
   "source": [
    "# # List for holding lat_lngs and cities\n",
    "# lat_lngs = []\n",
    "# cities = []\n",
    "\n",
    "# # Create a set of random lat and lng combinations\n",
    "# lats = np.random.uniform(lat_range[0], lat_range[1], size=1500)\n",
    "# lngs = np.random.uniform(lng_range[0], lng_range[1], size=1500)\n",
    "# lat_lngs = zip(lats, lngs)\n",
    "\n",
    "# # Identify nearest city for each lat, lng combination\n",
    "# for lat_lng in lat_lngs:\n",
    "#     city = citipy.nearest_city(lat_lng[0], lat_lng[1]).city_name\n",
    "    \n",
    "#     # If the city is unique, then add it to a our cities list\n",
    "#     if city not in cities:\n",
    "#         cities.append(city)\n",
    "\n",
    "# # # Print the city count to confirm sufficient count\n",
    "# len(cities)"
   ]
  },
  {
   "cell_type": "code",
   "execution_count": 3,
   "metadata": {},
   "outputs": [],
   "source": [
    "# cities_df = pd.DataFrame(cities,columns=[\"City\"])\r\n",
    "# print(cities_df)"
   ]
  },
  {
   "cell_type": "code",
   "execution_count": 4,
   "metadata": {},
   "outputs": [],
   "source": [
    "# cities_df.to_csv (\"cities.csv\", index = False, header=True)\n"
   ]
  },
  {
   "cell_type": "code",
   "execution_count": 2,
   "metadata": {},
   "outputs": [],
   "source": [
    "cities_imported = pd.read_csv(\"cities.csv\")"
   ]
  },
  {
   "cell_type": "code",
   "execution_count": 3,
   "metadata": {},
   "outputs": [
    {
     "output_type": "stream",
     "name": "stdout",
     "text": [
      "                City\n0           matangad\n1            sambava\n2            rikitea\n3             hobart\n4    haines junction\n..               ...\n610    pointe michel\n611            avera\n612           rawson\n613        morondava\n614             lata\n\n[615 rows x 1 columns]\n"
     ]
    }
   ],
   "source": [
    "print(cities_imported)"
   ]
  },
  {
   "cell_type": "code",
   "execution_count": 7,
   "metadata": {},
   "outputs": [],
   "source": [
    "# cities_df = pd.DataFrame(cities_imported)\n",
    "# cities_df[\"ID\"] = \"\"\n",
    "# cities_df[\"Lat\"] = \"\"\n",
    "# cities_df[\"Lng\"] = \"\"\n",
    "# cities_df[\"Max Temp\"] = \"\"\n",
    "# cities_df[\"Humidity\"] = \"\"\n",
    "# cities_df[\"Cloudiness\"] = \"\"\n",
    "# cities_df[\"Wind Speed\"] = \"\"\n",
    "# cities_df[\"Country\"] = \"\"\n",
    "# cities_df[\"Date\"] = \"\""
   ]
  },
  {
   "cell_type": "code",
   "execution_count": 8,
   "metadata": {},
   "outputs": [],
   "source": [
    "# print(cities_df)"
   ]
  },
  {
   "cell_type": "markdown",
   "metadata": {},
   "source": [
    "### Perform API Calls\n",
    "* Perform a weather check on each city using a series of successive API calls.\n",
    "* Include a print log of each city as it's being processed (with the city number and city name).\n"
   ]
  },
  {
   "cell_type": "code",
   "execution_count": 4,
   "metadata": {},
   "outputs": [],
   "source": [
    "# Parameter for OpenWeather API\n",
    "params = {\"key\": weather_api_key}\n",
    "\n",
    "# Parameter for Google Maps API\n",
    "# params = {\n",
    "#     \"Lat\": \"lat\",\n",
    "#     \"Lng\": \"lon\",\n",
    "#     \"Country\": \"country\",\n",
    "#     \"key\": gkey\n",
    "# }"
   ]
  },
  {
   "cell_type": "code",
   "execution_count": 10,
   "metadata": {},
   "outputs": [],
   "source": [
    "# lat = []\n",
    "\n",
    "# base_url = \"http://api.openweathermap.org/data/2.5/weather?\"\n",
    "# city = \"rikitea\"\n",
    "# query_url = base_url + \"appid=\" + weather_api_key + \"&q=\" + city\n",
    "\n",
    "# weather_response = requests.get(query_url).json()\n",
    "# # lat.append(weather_response['coord']['lat'])\n",
    "# # response_info = json.dumps(weather_response.json(),indent=4)\n",
    "# # print(lat)\n",
    "# # for response in response_info:\n",
    "\n",
    "# # print(response_info)\n",
    "# weather_response_df = pd.json_normalize(weather_response)\n",
    "# print(weather_response_df)"
   ]
  },
  {
   "cell_type": "code",
   "execution_count": 11,
   "metadata": {},
   "outputs": [],
   "source": [
    "# print(lat)"
   ]
  },
  {
   "cell_type": "code",
   "execution_count": 10,
   "metadata": {},
   "outputs": [
    {
     "output_type": "stream",
     "name": "stdout",
     "text": [
      "0             matangad\n1              sambava\n2              rikitea\n3               hobart\n4      haines junction\n            ...       \n610      pointe michel\n611              avera\n612             rawson\n613          morondava\n614               lata\nName: City, Length: 615, dtype: object\n"
     ]
    }
   ],
   "source": [
    "print(cities_imported[\"City\"])"
   ]
  },
  {
   "cell_type": "code",
   "execution_count": 13,
   "metadata": {},
   "outputs": [
    {
     "output_type": "error",
     "ename": "KeyError",
     "evalue": "'id'",
     "traceback": [
      "\u001b[1;31m---------------------------------------------------------------------------\u001b[0m",
      "\u001b[1;31mKeyError\u001b[0m                                  Traceback (most recent call last)",
      "\u001b[1;32m<ipython-input-13-ff91b871a353>\u001b[0m in \u001b[0;36m<module>\u001b[1;34m\u001b[0m\n\u001b[0;32m      9\u001b[0m     \u001b[0mweather_response\u001b[0m \u001b[1;33m=\u001b[0m \u001b[0mrequests\u001b[0m\u001b[1;33m.\u001b[0m\u001b[0mget\u001b[0m\u001b[1;33m(\u001b[0m\u001b[0mquery_url\u001b[0m\u001b[1;33m)\u001b[0m\u001b[1;33m.\u001b[0m\u001b[0mjson\u001b[0m\u001b[1;33m(\u001b[0m\u001b[1;33m)\u001b[0m\u001b[1;33m\u001b[0m\u001b[1;33m\u001b[0m\u001b[0m\n\u001b[0;32m     10\u001b[0m \u001b[1;33m\u001b[0m\u001b[0m\n\u001b[1;32m---> 11\u001b[1;33m     \u001b[0mcity_id\u001b[0m \u001b[1;33m=\u001b[0m \u001b[0mweather_response\u001b[0m\u001b[1;33m[\u001b[0m\u001b[1;34m'id'\u001b[0m\u001b[1;33m]\u001b[0m\u001b[1;33m\u001b[0m\u001b[1;33m\u001b[0m\u001b[0m\n\u001b[0m\u001b[0;32m     12\u001b[0m     \u001b[0mlat\u001b[0m \u001b[1;33m=\u001b[0m \u001b[0mweather_response\u001b[0m\u001b[1;33m[\u001b[0m\u001b[1;34m'coord'\u001b[0m\u001b[1;33m]\u001b[0m\u001b[1;33m[\u001b[0m\u001b[1;34m'lat'\u001b[0m\u001b[1;33m]\u001b[0m\u001b[1;33m\u001b[0m\u001b[1;33m\u001b[0m\u001b[0m\n\u001b[0;32m     13\u001b[0m     \u001b[0mlng\u001b[0m \u001b[1;33m=\u001b[0m \u001b[0mweather_response\u001b[0m\u001b[1;33m[\u001b[0m\u001b[1;34m'coord'\u001b[0m\u001b[1;33m]\u001b[0m\u001b[1;33m[\u001b[0m\u001b[1;34m'lon'\u001b[0m\u001b[1;33m]\u001b[0m\u001b[1;33m\u001b[0m\u001b[1;33m\u001b[0m\u001b[0m\n",
      "\u001b[1;31mKeyError\u001b[0m: 'id'"
     ]
    }
   ],
   "source": [
    "city = cities_imported[\"City\"]\n",
    "city_info_df=pd.DataFrame(columns=[\"ID\",\"Lat\",\"Long\",\"Max Temp\",\"Humidity\",\"Cloudiness\",\"Wind\",\"Country\",\"Date\"],index=city)\n",
    "\n",
    "for row in cities_imported[\"City\"]:\n",
    "\n",
    "    base_url = \"http://api.openweathermap.org/data/2.5/weather?\"\n",
    "    city = row\n",
    "    query_url = base_url + \"appid=\" + weather_api_key + \"&q=\" + city\n",
    "    weather_response = requests.get(query_url).json()\n",
    "\n",
    "    city_id = weather_response['id']\n",
    "    lat = weather_response['coord']['lat']\n",
    "    lng = weather_response['coord']['lon']\n",
    "    max_temp = weather_response['main']['temp_max']\n",
    "    humidity = weather_response['main']['humidity']\n",
    "    cloudiness = weather_response['clouds']['all']\n",
    "    wind_speed = weather_response['wind']['speed']\n",
    "    country = weather_response['sys']['country']\n",
    "    date_info =weather_response['dt']\n",
    "\n",
    "    city_info_df.loc[city]=[city_id,lat,lng,max_temp,humidity,cloudiness,wind_speed,country,date_info]\n",
    "\n",
    "print(city_info_df)\n"
   ]
  },
  {
   "cell_type": "code",
   "execution_count": 17,
   "metadata": {},
   "outputs": [
    {
     "output_type": "stream",
     "name": "stdout",
     "text": [
      "[2172517]\n"
     ]
    }
   ],
   "source": [
    "# responses = list()\n",
    "\n",
    "city_id = []\n",
    "lat = []\n",
    "lng = []\n",
    "max_temp = []\n",
    "humidity = []\n",
    "cloudiness = []\n",
    "wind_speed = []\n",
    "country = []\n",
    "date_info = []\n",
    "\n",
    "base_url = \"http://api.openweathermap.org/data/2.5/weather?\"\n",
    "prep_url = base_url + \"appid=\" + weather_api_key + \"&q=\"\n",
    "\n",
    "# Include a print log of each city as it's being processed (with the city number and city name).\n",
    "for city in cities_imported:\n",
    "    \n",
    "    query_url = prep_url + city\n",
    "\n",
    "    weather_response = requests.get(query_url).json()\n",
    "\n",
    "    city_id.append(weather_response['id'])\n",
    "    lat.append(weather_response['coord']['lat'])\n",
    "    lng.append(weather_response['coord']['lon'])\n",
    "    max_temp.append(weather_response['main']['temp_max'])\n",
    "    humidity.append(weather_response['main']['humidity'])\n",
    "    cloudiness.append(weather_response['clouds']['all'])\n",
    "    wind_speed.append(weather_response['wind']['speed'])\n",
    "    country.append(weather_response['sys']['country'])\n",
    "    date_info.append(weather_response['dt'])\n",
    "    \n",
    "print(city_id)"
   ]
  },
  {
   "cell_type": "code",
   "execution_count": 18,
   "metadata": {},
   "outputs": [
    {
     "output_type": "stream",
     "name": "stdout",
     "text": [
      "[-35.2813]\n"
     ]
    }
   ],
   "source": [
    "print(lat)"
   ]
  },
  {
   "cell_type": "code",
   "execution_count": null,
   "metadata": {},
   "outputs": [],
   "source": [
    "    # city_id.append(weather_response[0]['sys']['id'])\n",
    "    # lat.append(weather_response[0]['coord']['lat'])\n",
    "    # lng.append(weather_response[0]['coord']['lon'])\n",
    "    # max_temp.append(weather_response[0]['main']['temp_max'])\n",
    "    # humidity.append(weather_response[0]['main']['humidity'])\n",
    "    # cloudiness.append(weather_response[0]['clouds']['all'])\n",
    "    # wind_speed.append(weather_response[0]['wind']['speed'])\n",
    "    # country.append(weather_response[0]['sys']['country'])\n",
    "    # date_info.append(weather_response[0]['dt'])\n",
    "\n",
    "\n",
    "\n",
    "\n",
    "\n",
    "    # responses.append(weather_response.text)\n",
    "\n",
    "    # wresponse_data = weather_response.json()\n",
    "    # for response in responses:\n",
    "    #     cities_df.append({\n",
    "    #        \"ID\":['sys']['id'],\n",
    "    #        \"Lat\":['coord']['lat'],\n",
    "    #        \"Lng\":['coord']['lon'],\n",
    "    #        \"Max Temp\":['main']['temp_max'],\n",
    "    #        \"Humidity\":['main']['humidity'],\n",
    "    #        \"Cloudiness\":['clouds']['all'],\n",
    "    #        \"Wind Speed\":['wind']['speed'],\n",
    "    #        \"Country\":['sys']['country'],\n",
    "    #        \"Date\":['dt']\n",
    "    #     })\n",
    "\n",
    "\n",
    "\n",
    "        #  \"Lng\":response.get('coord').get('lon'),\n",
    "        #    \"Max Temp\":response.get('main').get('temp_max'),\n",
    "        #    \"Humidity\":response.get('main').get('humidity'),\n",
    "        #    \"Cloudiness\":response.get('weather').get('description'),\n",
    "        #    \"Wind Speed\":response.get('wind').get('speed'),\n",
    "        #    \"Country\":response.get('sys').get('country'),\n",
    "        #    \"Date\":response.get('dt'\n",
    "# cities_df[\"ID\"] = \"\"\n",
    "# cities_df[\"Lat\"] = \"\"\n",
    "# cities_df[\"Lng\"] = \"\"\n",
    "# cities_df[\"Max Temp\"] = \"\"\n",
    "# cities_df[\"Humidity\"] = \"\"\n",
    "# cities_df[\"Cloudiness\"] = \"\"\n",
    "# cities_df[\"Wind Speed\"] = \"\"\n",
    "# cities_df[\"Country\"] = \"\"\n",
    "# cities_df[\"Date\"]\n",
    "\n",
    "\n",
    "    # print(weather_response.status_code)\n",
    "    # print(weather_response.text)"
   ]
  },
  {
   "cell_type": "code",
   "execution_count": 14,
   "metadata": {},
   "outputs": [],
   "source": [
    "# print(responses)"
   ]
  },
  {
   "cell_type": "code",
   "execution_count": 13,
   "metadata": {},
   "outputs": [
    {
     "output_type": "stream",
     "name": "stdout",
     "text": [
      "{'coord': {'lon': 168.8643, 'lat': -46.1927}, 'weather': [{'id': 804, 'main': 'Clouds', 'description': 'overcast clouds', 'icon': '04d'}], 'base': 'stations', 'main': {'temp': 282.86, 'feels_like': 282.86, 'temp_min': 282.86, 'temp_max': 282.86, 'pressure': 1023, 'humidity': 93, 'sea_level': 1023, 'grnd_level': 1016}, 'visibility': 10000, 'wind': {'speed': 0.71, 'deg': 249, 'gust': 1.86}, 'clouds': {'all': 100}, 'dt': 1624419496, 'sys': {'type': 2, 'id': 2008959, 'country': 'NZ', 'sunrise': 1624393695, 'sunset': 1624424700}, 'timezone': 43200, 'id': 6201424, 'name': 'Mataura', 'cod': 200}\n"
     ]
    }
   ],
   "source": [
    "# url = \"http://api.openweathermap.org/data/2.5/weather?\"\n",
    "# city = \"mataura\"\n",
    "# query_url = url + \"appid=\" + weather_api_key + \"&q=\" + city\n",
    "\n",
    "# weather_response = requests.get(query_url).json()\n",
    "# print(weather_response)"
   ]
  },
  {
   "cell_type": "code",
   "execution_count": null,
   "metadata": {},
   "outputs": [],
   "source": [
    "# Perform a weather check on each city using a series of successive API calls.\n",
    "\n",
    "# weather_json = weather_response.json()\n",
    "# weather_json"
   ]
  },
  {
   "cell_type": "code",
   "execution_count": null,
   "metadata": {},
   "outputs": [],
   "source": [
    "# for index, row in cities_pd.iterrows():\n",
    "#     base_url = \"https://maps.googleapis.com/maps/api/geocode/json\"\n",
    "\n",
    "#     city = row['City']\n",
    "#     state = row['State']\n",
    "\n",
    "#     # update address key value\n",
    "#     params['address'] = f\"{city},{state}\"\n",
    "\n",
    "#     # make request\n",
    "#     cities_lat_lng = requests.get(base_url, params=params)\n",
    "    \n",
    "#     # print the cities_lat_lng url, avoid doing for public github repos in order to avoid exposing key\n",
    "#     # print(cities_lat_lng.url)\n",
    "    \n",
    "#     # convert to json\n",
    "#     cities_lat_lng = cities_lat_lng.json()\n",
    "\n",
    "#     cities_pd.loc[index, \"Lat\"] = cities_lat_lng[\"results\"][0][\"geometry\"][\"location\"][\"lat\"]\n",
    "#     cities_pd.loc[index, \"Lng\"] = cities_lat_lng[\"results\"][0][\"geometry\"][\"location\"][\"lng\"]\n",
    "\n",
    "#     try:\n",
    "#         cities_pd.loc[index, \"Airport Name\"] = name_address[\"results\"][0][\"name\"]\n",
    "#         cities_pd.loc[index, \"Airport Address\"] = name_address[\"results\"][0][\"vicinity\"]\n",
    "#         cities_pd.loc[index, \"Airport Rating\"] = name_address[\"results\"][0][\"rating\"]\n",
    "#     except (KeyError, IndexError):\n",
    "#         print(\"Missing field/result... skipping.\")\n",
    "\n",
    "# # Visualize to confirm lat lng appear\n",
    "# cities_pd.head() "
   ]
  },
  {
   "cell_type": "code",
   "execution_count": null,
   "metadata": {},
   "outputs": [],
   "source": []
  },
  {
   "cell_type": "code",
   "execution_count": null,
   "metadata": {},
   "outputs": [],
   "source": []
  },
  {
   "cell_type": "code",
   "execution_count": null,
   "metadata": {
    "scrolled": true
   },
   "outputs": [],
   "source": []
  },
  {
   "cell_type": "markdown",
   "metadata": {},
   "source": [
    "### Convert Raw Data to DataFrame\n",
    "* Export the city data into a .csv.\n",
    "* Display the DataFrame"
   ]
  },
  {
   "cell_type": "code",
   "execution_count": null,
   "metadata": {},
   "outputs": [],
   "source": []
  },
  {
   "cell_type": "code",
   "execution_count": null,
   "metadata": {},
   "outputs": [],
   "source": []
  },
  {
   "cell_type": "markdown",
   "metadata": {},
   "source": [
    "## Inspect the data and remove the cities where the humidity > 100%.\n",
    "----\n",
    "Skip this step if there are no cities that have humidity > 100%. "
   ]
  },
  {
   "cell_type": "code",
   "execution_count": null,
   "metadata": {},
   "outputs": [],
   "source": []
  },
  {
   "cell_type": "code",
   "execution_count": null,
   "metadata": {},
   "outputs": [],
   "source": [
    "#  Get the indices of cities that have humidity over 100%.\n"
   ]
  },
  {
   "cell_type": "code",
   "execution_count": null,
   "metadata": {},
   "outputs": [],
   "source": [
    "# Make a new DataFrame equal to the city data to drop all humidity outliers by index.\n",
    "# Passing \"inplace=False\" will make a copy of the city_data DataFrame, which we call \"clean_city_data\".\n"
   ]
  },
  {
   "cell_type": "code",
   "execution_count": null,
   "metadata": {},
   "outputs": [],
   "source": [
    "\n"
   ]
  },
  {
   "cell_type": "markdown",
   "metadata": {},
   "source": [
    "## Plotting the Data\n",
    "* Use proper labeling of the plots using plot titles (including date of analysis) and axes labels.\n",
    "* Save the plotted figures as .pngs."
   ]
  },
  {
   "cell_type": "markdown",
   "metadata": {},
   "source": [
    "## Latitude vs. Temperature Plot"
   ]
  },
  {
   "cell_type": "code",
   "execution_count": null,
   "metadata": {
    "scrolled": true
   },
   "outputs": [],
   "source": []
  },
  {
   "cell_type": "markdown",
   "metadata": {},
   "source": [
    "## Latitude vs. Humidity Plot"
   ]
  },
  {
   "cell_type": "code",
   "execution_count": null,
   "metadata": {},
   "outputs": [],
   "source": []
  },
  {
   "cell_type": "markdown",
   "metadata": {},
   "source": [
    "## Latitude vs. Cloudiness Plot"
   ]
  },
  {
   "cell_type": "code",
   "execution_count": null,
   "metadata": {},
   "outputs": [],
   "source": []
  },
  {
   "cell_type": "markdown",
   "metadata": {},
   "source": [
    "## Latitude vs. Wind Speed Plot"
   ]
  },
  {
   "cell_type": "code",
   "execution_count": null,
   "metadata": {},
   "outputs": [],
   "source": []
  },
  {
   "cell_type": "markdown",
   "metadata": {},
   "source": [
    "## Linear Regression"
   ]
  },
  {
   "cell_type": "code",
   "execution_count": null,
   "metadata": {},
   "outputs": [],
   "source": []
  },
  {
   "cell_type": "markdown",
   "metadata": {},
   "source": [
    "####  Northern Hemisphere - Max Temp vs. Latitude Linear Regression"
   ]
  },
  {
   "cell_type": "code",
   "execution_count": null,
   "metadata": {},
   "outputs": [],
   "source": []
  },
  {
   "cell_type": "markdown",
   "metadata": {},
   "source": [
    "####  Southern Hemisphere - Max Temp vs. Latitude Linear Regression"
   ]
  },
  {
   "cell_type": "code",
   "execution_count": null,
   "metadata": {},
   "outputs": [],
   "source": []
  },
  {
   "cell_type": "markdown",
   "metadata": {},
   "source": [
    "####  Northern Hemisphere - Humidity (%) vs. Latitude Linear Regression"
   ]
  },
  {
   "cell_type": "code",
   "execution_count": null,
   "metadata": {},
   "outputs": [],
   "source": []
  },
  {
   "cell_type": "markdown",
   "metadata": {},
   "source": [
    "####  Southern Hemisphere - Humidity (%) vs. Latitude Linear Regression"
   ]
  },
  {
   "cell_type": "code",
   "execution_count": null,
   "metadata": {},
   "outputs": [],
   "source": []
  },
  {
   "cell_type": "markdown",
   "metadata": {},
   "source": [
    "####  Northern Hemisphere - Cloudiness (%) vs. Latitude Linear Regression"
   ]
  },
  {
   "cell_type": "code",
   "execution_count": null,
   "metadata": {},
   "outputs": [],
   "source": []
  },
  {
   "cell_type": "markdown",
   "metadata": {},
   "source": [
    "####  Southern Hemisphere - Cloudiness (%) vs. Latitude Linear Regression"
   ]
  },
  {
   "cell_type": "code",
   "execution_count": null,
   "metadata": {},
   "outputs": [],
   "source": []
  },
  {
   "cell_type": "markdown",
   "metadata": {},
   "source": [
    "####  Northern Hemisphere - Wind Speed (mph) vs. Latitude Linear Regression"
   ]
  },
  {
   "cell_type": "code",
   "execution_count": null,
   "metadata": {},
   "outputs": [],
   "source": []
  },
  {
   "cell_type": "markdown",
   "metadata": {},
   "source": [
    "####  Southern Hemisphere - Wind Speed (mph) vs. Latitude Linear Regression"
   ]
  },
  {
   "cell_type": "code",
   "execution_count": null,
   "metadata": {},
   "outputs": [],
   "source": []
  },
  {
   "cell_type": "code",
   "execution_count": null,
   "metadata": {},
   "outputs": [],
   "source": []
  }
 ],
 "metadata": {
  "anaconda-cloud": {},
  "kernel_info": {
   "name": "python3"
  },
  "kernelspec": {
   "name": "python3",
   "display_name": "Python 3.6.10 64-bit ('PythonData': conda)"
  },
  "language_info": {
   "codemirror_mode": {
    "name": "ipython",
    "version": 3
   },
   "file_extension": ".py",
   "mimetype": "text/x-python",
   "name": "python",
   "nbconvert_exporter": "python",
   "pygments_lexer": "ipython3",
   "version": "3.6.10"
  },
  "latex_envs": {
   "LaTeX_envs_menu_present": true,
   "autoclose": false,
   "autocomplete": true,
   "bibliofile": "biblio.bib",
   "cite_by": "apalike",
   "current_citInitial": 1,
   "eqLabelWithNumbers": true,
   "eqNumInitial": 1,
   "hotkeys": {
    "equation": "Ctrl-E",
    "itemize": "Ctrl-I"
   },
   "labels_anchors": false,
   "latex_user_defs": false,
   "report_style_numbering": false,
   "user_envs_cfg": false
  },
  "nteract": {
   "version": "0.12.3"
  },
  "interpreter": {
   "hash": "03e16bf20b38c5bc3bf00c976c15238982088169e9834c6084af3096887b3e40"
  }
 },
 "nbformat": 4,
 "nbformat_minor": 2
}