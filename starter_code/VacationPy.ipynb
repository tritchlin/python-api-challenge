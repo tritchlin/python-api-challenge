{
 "cells": [
  {
   "cell_type": "markdown",
   "metadata": {},
   "source": [
    "# VacationPy\n",
    "----\n",
    "\n",
    "#### Note\n",
    "* Keep an eye on your API usage. Use https://developers.google.com/maps/reporting/gmp-reporting as reference for how to monitor your usage and billing.\n",
    "\n",
    "* Instructions have been included for each segment. You do not have to follow them exactly, but they are included to help you think through the steps."
   ]
  },
  {
   "cell_type": "code",
   "execution_count": 36,
   "metadata": {},
   "outputs": [
    {
     "output_type": "error",
     "ename": "ModuleNotFoundError",
     "evalue": "No module named 'geopy'",
     "traceback": [
      "\u001b[1;31m---------------------------------------------------------------------------\u001b[0m",
      "\u001b[1;31mModuleNotFoundError\u001b[0m                       Traceback (most recent call last)",
      "\u001b[1;32m<ipython-input-36-8e81450221fa>\u001b[0m in \u001b[0;36m<module>\u001b[1;34m\u001b[0m\n\u001b[0;32m      7\u001b[0m \u001b[1;32mimport\u001b[0m \u001b[0mos\u001b[0m\u001b[1;33m\u001b[0m\u001b[1;33m\u001b[0m\u001b[0m\n\u001b[0;32m      8\u001b[0m \u001b[1;32mimport\u001b[0m \u001b[0mjson\u001b[0m\u001b[1;33m\u001b[0m\u001b[1;33m\u001b[0m\u001b[0m\n\u001b[1;32m----> 9\u001b[1;33m \u001b[1;32mfrom\u001b[0m \u001b[0mgeopy\u001b[0m \u001b[1;32mimport\u001b[0m \u001b[0mdistance\u001b[0m\u001b[1;33m\u001b[0m\u001b[1;33m\u001b[0m\u001b[0m\n\u001b[0m\u001b[0;32m     10\u001b[0m \u001b[1;33m\u001b[0m\u001b[0m\n\u001b[0;32m     11\u001b[0m \u001b[1;31m# Import API key\u001b[0m\u001b[1;33m\u001b[0m\u001b[1;33m\u001b[0m\u001b[1;33m\u001b[0m\u001b[0m\n",
      "\u001b[1;31mModuleNotFoundError\u001b[0m: No module named 'geopy'"
     ]
    }
   ],
   "source": [
    "# Dependencies and Setup\n",
    "import matplotlib.pyplot as plt\n",
    "import pandas as pd\n",
    "import numpy as np\n",
    "import requests\n",
    "import gmaps\n",
    "import os\n",
    "import json\n",
    "from geopy import distance\n",
    "\n",
    "# Import API key\n",
    "from api_keys import g_key"
   ]
  },
  {
   "cell_type": "markdown",
   "metadata": {},
   "source": [
    "### Store Part I results into DataFrame\n",
    "* Load the csv exported in Part I to a DataFrame"
   ]
  },
  {
   "cell_type": "code",
   "execution_count": 2,
   "metadata": {},
   "outputs": [
    {
     "output_type": "execute_result",
     "data": {
      "text/plain": [
       "              City       ID      Lat      Long  Max Temp  Humidity  \\\n",
       "0           atuona  4020109  -9.8000 -139.0333     79.29        77   \n",
       "1  plettenberg bay   964712 -34.0527   23.3716     55.27        83   \n",
       "2        bonavista  5905393  48.6499  -53.1147     64.40        99   \n",
       "3        namatanai  2090021  -3.6667  152.4333     84.25        70   \n",
       "4      broken hill  2173911 -31.9500  141.4333     55.11        58   \n",
       "\n",
       "   Cloudiness   Wind Country                      Date  \n",
       "0          22  18.81      PF  Wed Jun 23 18:37:31 2021  \n",
       "1         100   4.59      ZA  Wed Jun 23 18:37:31 2021  \n",
       "2          99  15.73      CA  Wed Jun 23 18:37:32 2021  \n",
       "3         100   3.65      PG  Wed Jun 23 18:37:32 2021  \n",
       "4           2  16.11      AU  Wed Jun 23 18:37:32 2021  "
      ],
      "text/html": "<div>\n<style scoped>\n    .dataframe tbody tr th:only-of-type {\n        vertical-align: middle;\n    }\n\n    .dataframe tbody tr th {\n        vertical-align: top;\n    }\n\n    .dataframe thead th {\n        text-align: right;\n    }\n</style>\n<table border=\"1\" class=\"dataframe\">\n  <thead>\n    <tr style=\"text-align: right;\">\n      <th></th>\n      <th>City</th>\n      <th>ID</th>\n      <th>Lat</th>\n      <th>Long</th>\n      <th>Max Temp</th>\n      <th>Humidity</th>\n      <th>Cloudiness</th>\n      <th>Wind</th>\n      <th>Country</th>\n      <th>Date</th>\n    </tr>\n  </thead>\n  <tbody>\n    <tr>\n      <th>0</th>\n      <td>atuona</td>\n      <td>4020109</td>\n      <td>-9.8000</td>\n      <td>-139.0333</td>\n      <td>79.29</td>\n      <td>77</td>\n      <td>22</td>\n      <td>18.81</td>\n      <td>PF</td>\n      <td>Wed Jun 23 18:37:31 2021</td>\n    </tr>\n    <tr>\n      <th>1</th>\n      <td>plettenberg bay</td>\n      <td>964712</td>\n      <td>-34.0527</td>\n      <td>23.3716</td>\n      <td>55.27</td>\n      <td>83</td>\n      <td>100</td>\n      <td>4.59</td>\n      <td>ZA</td>\n      <td>Wed Jun 23 18:37:31 2021</td>\n    </tr>\n    <tr>\n      <th>2</th>\n      <td>bonavista</td>\n      <td>5905393</td>\n      <td>48.6499</td>\n      <td>-53.1147</td>\n      <td>64.40</td>\n      <td>99</td>\n      <td>99</td>\n      <td>15.73</td>\n      <td>CA</td>\n      <td>Wed Jun 23 18:37:32 2021</td>\n    </tr>\n    <tr>\n      <th>3</th>\n      <td>namatanai</td>\n      <td>2090021</td>\n      <td>-3.6667</td>\n      <td>152.4333</td>\n      <td>84.25</td>\n      <td>70</td>\n      <td>100</td>\n      <td>3.65</td>\n      <td>PG</td>\n      <td>Wed Jun 23 18:37:32 2021</td>\n    </tr>\n    <tr>\n      <th>4</th>\n      <td>broken hill</td>\n      <td>2173911</td>\n      <td>-31.9500</td>\n      <td>141.4333</td>\n      <td>55.11</td>\n      <td>58</td>\n      <td>2</td>\n      <td>16.11</td>\n      <td>AU</td>\n      <td>Wed Jun 23 18:37:32 2021</td>\n    </tr>\n  </tbody>\n</table>\n</div>"
     },
     "metadata": {},
     "execution_count": 2
    }
   ],
   "source": [
    "cities_pd = pd.read_csv(\"output.csv\")\n",
    "cities_pd.head()"
   ]
  },
  {
   "cell_type": "markdown",
   "metadata": {},
   "source": [
    "### Humidity Heatmap\n",
    "* Configure gmaps.\n",
    "* Use the Lat and Lng as locations and Humidity as the weight.\n",
    "* Add Heatmap layer to map."
   ]
  },
  {
   "cell_type": "code",
   "execution_count": 3,
   "metadata": {},
   "outputs": [],
   "source": [
    "gmaps.configure(g_key)"
   ]
  },
  {
   "cell_type": "code",
   "execution_count": 4,
   "metadata": {},
   "outputs": [],
   "source": [
    "locations = cities_pd[[\"Lat\", \"Long\"]].astype(float)\n",
    "city_humidity = cities_pd[\"Humidity\"].astype(float) "
   ]
  },
  {
   "cell_type": "code",
   "execution_count": 5,
   "metadata": {},
   "outputs": [
    {
     "output_type": "display_data",
     "data": {
      "text/plain": "Figure(layout=FigureLayout(height='420px'))",
      "application/vnd.jupyter.widget-view+json": {
       "version_major": 2,
       "version_minor": 0,
       "model_id": "29a294466b8643cdac6ec1f2b69b2a55"
      }
     },
     "metadata": {}
    }
   ],
   "source": [
    "center_coord = (40.52,34.34)\n",
    "\n",
    "fig = gmaps.figure(center=center_coord,zoom_level=2)\n",
    "\n",
    "heat_layer = gmaps.heatmap_layer(locations, weights=city_humidity, \n",
    "                                 dissipating=False, max_intensity=100,\n",
    "                                 point_radius = 2)\n",
    "\n",
    "fig.add_layer(heat_layer)\n",
    "\n",
    "\n",
    "\n",
    "fig"
   ]
  },
  {
   "cell_type": "markdown",
   "metadata": {},
   "source": [
    "### Create new DataFrame fitting weather criteria\n",
    "* Narrow down the cities to fit weather conditions.\n",
    "* Drop any rows will null values."
   ]
  },
  {
   "cell_type": "code",
   "execution_count": 6,
   "metadata": {},
   "outputs": [
    {
     "output_type": "execute_result",
     "data": {
      "text/plain": [
       "                City       ID      Lat      Long  Max Temp  Humidity  \\\n",
       "0             atuona  4020109  -9.8000 -139.0333     79.29        77   \n",
       "1    plettenberg bay   964712 -34.0527   23.3716     55.27        83   \n",
       "2          bonavista  5905393  48.6499  -53.1147     64.40        99   \n",
       "3          namatanai  2090021  -3.6667  152.4333     84.25        70   \n",
       "4        broken hill  2173911 -31.9500  141.4333     55.11        58   \n",
       "..               ...      ...      ...       ...       ...       ...   \n",
       "554        pemangkat  1631637   1.1667  108.9667     78.26        85   \n",
       "555           bentiu   377472   9.2333   29.8333     72.09        81   \n",
       "556          chanika   160592  -5.4167   38.0167     59.13        98   \n",
       "557       chuguyevka  2025286  44.1653  133.8633     79.27        42   \n",
       "558            coari  3664539  -4.0850  -63.1414     74.07        86   \n",
       "\n",
       "     Cloudiness   Wind Country                      Date  \n",
       "0            22  18.81      PF  Wed Jun 23 18:37:31 2021  \n",
       "1           100   4.59      ZA  Wed Jun 23 18:37:31 2021  \n",
       "2            99  15.73      CA  Wed Jun 23 18:37:32 2021  \n",
       "3           100   3.65      PG  Wed Jun 23 18:37:32 2021  \n",
       "4             2  16.11      AU  Wed Jun 23 18:37:32 2021  \n",
       "..          ...    ...     ...                       ...  \n",
       "554          98   6.89      ID  Wed Jun 23 18:40:54 2021  \n",
       "555          38   5.30      SS  Wed Jun 23 18:40:55 2021  \n",
       "556          67   2.95      TZ  Wed Jun 23 18:40:55 2021  \n",
       "557          11   3.87      RU  Wed Jun 23 18:40:56 2021  \n",
       "558          32   2.53      BR  Wed Jun 23 18:40:56 2021  \n",
       "\n",
       "[559 rows x 10 columns]"
      ],
      "text/html": "<div>\n<style scoped>\n    .dataframe tbody tr th:only-of-type {\n        vertical-align: middle;\n    }\n\n    .dataframe tbody tr th {\n        vertical-align: top;\n    }\n\n    .dataframe thead th {\n        text-align: right;\n    }\n</style>\n<table border=\"1\" class=\"dataframe\">\n  <thead>\n    <tr style=\"text-align: right;\">\n      <th></th>\n      <th>City</th>\n      <th>ID</th>\n      <th>Lat</th>\n      <th>Long</th>\n      <th>Max Temp</th>\n      <th>Humidity</th>\n      <th>Cloudiness</th>\n      <th>Wind</th>\n      <th>Country</th>\n      <th>Date</th>\n    </tr>\n  </thead>\n  <tbody>\n    <tr>\n      <th>0</th>\n      <td>atuona</td>\n      <td>4020109</td>\n      <td>-9.8000</td>\n      <td>-139.0333</td>\n      <td>79.29</td>\n      <td>77</td>\n      <td>22</td>\n      <td>18.81</td>\n      <td>PF</td>\n      <td>Wed Jun 23 18:37:31 2021</td>\n    </tr>\n    <tr>\n      <th>1</th>\n      <td>plettenberg bay</td>\n      <td>964712</td>\n      <td>-34.0527</td>\n      <td>23.3716</td>\n      <td>55.27</td>\n      <td>83</td>\n      <td>100</td>\n      <td>4.59</td>\n      <td>ZA</td>\n      <td>Wed Jun 23 18:37:31 2021</td>\n    </tr>\n    <tr>\n      <th>2</th>\n      <td>bonavista</td>\n      <td>5905393</td>\n      <td>48.6499</td>\n      <td>-53.1147</td>\n      <td>64.40</td>\n      <td>99</td>\n      <td>99</td>\n      <td>15.73</td>\n      <td>CA</td>\n      <td>Wed Jun 23 18:37:32 2021</td>\n    </tr>\n    <tr>\n      <th>3</th>\n      <td>namatanai</td>\n      <td>2090021</td>\n      <td>-3.6667</td>\n      <td>152.4333</td>\n      <td>84.25</td>\n      <td>70</td>\n      <td>100</td>\n      <td>3.65</td>\n      <td>PG</td>\n      <td>Wed Jun 23 18:37:32 2021</td>\n    </tr>\n    <tr>\n      <th>4</th>\n      <td>broken hill</td>\n      <td>2173911</td>\n      <td>-31.9500</td>\n      <td>141.4333</td>\n      <td>55.11</td>\n      <td>58</td>\n      <td>2</td>\n      <td>16.11</td>\n      <td>AU</td>\n      <td>Wed Jun 23 18:37:32 2021</td>\n    </tr>\n    <tr>\n      <th>...</th>\n      <td>...</td>\n      <td>...</td>\n      <td>...</td>\n      <td>...</td>\n      <td>...</td>\n      <td>...</td>\n      <td>...</td>\n      <td>...</td>\n      <td>...</td>\n      <td>...</td>\n    </tr>\n    <tr>\n      <th>554</th>\n      <td>pemangkat</td>\n      <td>1631637</td>\n      <td>1.1667</td>\n      <td>108.9667</td>\n      <td>78.26</td>\n      <td>85</td>\n      <td>98</td>\n      <td>6.89</td>\n      <td>ID</td>\n      <td>Wed Jun 23 18:40:54 2021</td>\n    </tr>\n    <tr>\n      <th>555</th>\n      <td>bentiu</td>\n      <td>377472</td>\n      <td>9.2333</td>\n      <td>29.8333</td>\n      <td>72.09</td>\n      <td>81</td>\n      <td>38</td>\n      <td>5.30</td>\n      <td>SS</td>\n      <td>Wed Jun 23 18:40:55 2021</td>\n    </tr>\n    <tr>\n      <th>556</th>\n      <td>chanika</td>\n      <td>160592</td>\n      <td>-5.4167</td>\n      <td>38.0167</td>\n      <td>59.13</td>\n      <td>98</td>\n      <td>67</td>\n      <td>2.95</td>\n      <td>TZ</td>\n      <td>Wed Jun 23 18:40:55 2021</td>\n    </tr>\n    <tr>\n      <th>557</th>\n      <td>chuguyevka</td>\n      <td>2025286</td>\n      <td>44.1653</td>\n      <td>133.8633</td>\n      <td>79.27</td>\n      <td>42</td>\n      <td>11</td>\n      <td>3.87</td>\n      <td>RU</td>\n      <td>Wed Jun 23 18:40:56 2021</td>\n    </tr>\n    <tr>\n      <th>558</th>\n      <td>coari</td>\n      <td>3664539</td>\n      <td>-4.0850</td>\n      <td>-63.1414</td>\n      <td>74.07</td>\n      <td>86</td>\n      <td>32</td>\n      <td>2.53</td>\n      <td>BR</td>\n      <td>Wed Jun 23 18:40:56 2021</td>\n    </tr>\n  </tbody>\n</table>\n<p>559 rows × 10 columns</p>\n</div>"
     },
     "metadata": {},
     "execution_count": 6
    }
   ],
   "source": [
    "cities_df = pd.DataFrame(cities_pd)\n",
    "cities_df"
   ]
  },
  {
   "cell_type": "code",
   "execution_count": 7,
   "metadata": {},
   "outputs": [
    {
     "output_type": "stream",
     "name": "stdout",
     "text": [
      "47\n"
     ]
    }
   ],
   "source": [
    "# Ideal weather conditions: 75-85F, Wind Speed 5-25mph, humidity 10-60%\n",
    "\n",
    "cities_ideal = cities_df[(cities_df['Max Temp'] < 82) & \n",
    "            (cities_df['Wind'] >= 5) & (cities_df['Wind'] <= 25) & \n",
    "            (cities_df['Humidity'] >= 15) & (cities_df['Humidity'] <= 55)]\n",
    "\n",
    "cities_ideal_df = pd.DataFrame(cities_ideal)\n",
    "cities_ideal_df.dropna(inplace=True)\n",
    "print(len(cities_ideal_df))"
   ]
  },
  {
   "cell_type": "markdown",
   "metadata": {},
   "source": [
    "### Hotel Map\n",
    "* Store into variable named `hotel_df`.\n",
    "* Add a \"Hotel Name\" column to the DataFrame.\n",
    "* Set parameters to search for hotels with 5000 meters.\n",
    "* Hit the Google Places API for each city's coordinates.\n",
    "* Store the first Hotel result into the DataFrame.\n",
    "* Plot markers on top of the heatmap."
   ]
  },
  {
   "cell_type": "code",
   "execution_count": 8,
   "metadata": {},
   "outputs": [],
   "source": [
    "cities_ideal_df=cities_ideal_df.drop(columns=[\"Date\"])\n",
    "cities_ideal_df[\"Hotel Name\"] = \"\""
   ]
  },
  {
   "cell_type": "code",
   "execution_count": 9,
   "metadata": {},
   "outputs": [
    {
     "output_type": "stream",
     "name": "stdout",
     "text": [
      "                    City       ID      Lat      Long  Max Temp  Humidity  \\\n",
      "40           yellowknife  6185377  62.4560 -114.3525     59.56        33   \n",
      "68             kununurra  2068110 -15.7667  128.7333     75.18        50   \n",
      "70             saskylakh  2017155  71.9167  114.0833     55.49        39   \n",
      "72             shelburne  6145890  44.0787  -80.2041     66.69        50   \n",
      "89          port hedland  2063042 -20.3167  118.5667     59.05        51   \n",
      "112                dukat  2125906  62.5500  155.5500     57.87        37   \n",
      "123              birjand   140463  32.8663   59.2211     59.47        20   \n",
      "158             cherskiy  2126199  68.7500  161.3000     66.36        27   \n",
      "159                korla  1529376  41.7597   86.1469     75.49        30   \n",
      "183            tilichiki  2120591  60.4667  166.1000     65.73        45   \n",
      "185                macon  4243719  39.8667  -88.9668     78.55        44   \n",
      "217            flin flon  5954718  54.7682 -101.8650     64.94        36   \n",
      "235              isangel  2136825 -19.5500  169.2667     80.71        54   \n",
      "254               hailar  2037078  49.2000  119.7000     76.89        44   \n",
      "260              aklavik  5882953  68.2191 -135.0107     81.32        32   \n",
      "264              svitavy  3064454  49.7559   16.4683     66.36        55   \n",
      "265         umm kaddadah   364933  13.6017   26.6876     81.19        46   \n",
      "281                asyut   359783  27.1810   31.1837     78.98        39   \n",
      "283              agirish  1512101  61.9247   63.0231     53.13        49   \n",
      "290         komsomolskiy  1513491  40.4272   71.7189     74.12        28   \n",
      "301           susanville  5572400  40.4163 -120.6530     77.81        42   \n",
      "306                 luau   876177 -10.7073   22.2247     55.51        46   \n",
      "320      haines junction  5969025  60.7522 -137.5108     66.15        34   \n",
      "321              dunedin  2191562 -45.8742  170.5036     54.81        49   \n",
      "341               hailun  2037069  47.4500  126.9333     81.14        37   \n",
      "355               urumqi  1529102  43.8010   87.6005     65.35        40   \n",
      "369           baker city  5712169  44.7749 -117.8344     78.51        44   \n",
      "396               shache  1280037  38.4167   77.2406     77.43        17   \n",
      "403            carnarvon  2074865 -24.8667  113.6333     51.87        48   \n",
      "420               kaliua   158514  -5.0606   31.7936     67.41        49   \n",
      "424                 elat   295277  29.5581   34.9482     80.44        44   \n",
      "427      fort-shevchenko   609906  44.5086   50.2630     81.90        29   \n",
      "433             karratha  6620339 -20.7377  116.8463     63.03        36   \n",
      "443            roebourne  2062276 -20.7833  117.1333     62.85        37   \n",
      "454              chifeng  2038067  42.2683  118.9636     76.66        50   \n",
      "457             udachnyy  2014624  66.4167  112.4000     66.29        54   \n",
      "469        santa barbara  5392967  34.7333 -120.0343     69.22        55   \n",
      "496             vilyuysk  2013392  63.7553  121.6247     78.84        50   \n",
      "498                 faya   110690  18.3851   42.4509     69.91        17   \n",
      "506                rawah    92004  34.4816   41.9093     80.94        29   \n",
      "513             la ronge  6050066  55.1001 -105.2842     66.45        37   \n",
      "519             smithers  6149996  54.7804 -127.1743     68.32        52   \n",
      "520        chatellerault  3026141  46.8000    0.5333     59.72        49   \n",
      "526                 poya  2138522 -21.3500  165.1500     76.24        46   \n",
      "527          verkhoyansk  2013465  67.5447  133.3850     74.44        36   \n",
      "532               vostok  2013279  46.4856  135.8833     74.30        43   \n",
      "549  adolfo lopez mateos  3976161  28.4667 -107.3000     79.93        35   \n",
      "\n",
      "     Cloudiness   Wind Country Hotel Name  \n",
      "40           20  14.97      CA             \n",
      "68           90  11.50      AU             \n",
      "70           14  10.29      RU             \n",
      "72           78  12.15      CA             \n",
      "89           62  13.80      AU             \n",
      "112         100   5.57      RU             \n",
      "123           0   6.91      IR             \n",
      "158           5   7.18      RU             \n",
      "159           0  15.05      CN             \n",
      "183          14   6.91      RU             \n",
      "185           1  13.80      US             \n",
      "217         100  13.20      CA             \n",
      "235          75  17.27      VU             \n",
      "254           0   5.75      CN             \n",
      "260          41   5.75      CA             \n",
      "264          78   7.74      CZ             \n",
      "265         100   8.52      SD             \n",
      "281           0  10.65      EG             \n",
      "283         100   5.61      RU             \n",
      "290           0   6.91      UZ             \n",
      "301           1  12.66      US             \n",
      "306           9   5.17      AO             \n",
      "320         100  10.36      CA             \n",
      "321         100  10.00      NZ             \n",
      "341          78   9.57      CN             \n",
      "355           0   8.95      CN             \n",
      "369          20   6.91      US             \n",
      "396          62   6.64      CN             \n",
      "403           0  13.80      AU             \n",
      "420         100   5.23      TZ             \n",
      "424           0  13.80      IL             \n",
      "427           0  11.88      KZ             \n",
      "433          33  21.85      AU             \n",
      "443          31  22.32      AU             \n",
      "454         100   7.63      CN             \n",
      "457          27  12.66      RU             \n",
      "469           1  16.11      US             \n",
      "496          52   8.01      RU             \n",
      "498         100   5.84      SA             \n",
      "506           0   8.23      IQ             \n",
      "513          90  11.50      CA             \n",
      "519          90  13.80      CA             \n",
      "520          99   6.08      FR             \n",
      "526          33   9.35      NC             \n",
      "527          98  13.31      RU             \n",
      "532          56  10.13      RU             \n",
      "549          54   7.02      MX             \n"
     ]
    }
   ],
   "source": [
    "print(cities_ideal_df)"
   ]
  },
  {
   "cell_type": "code",
   "execution_count": 35,
   "metadata": {},
   "outputs": [
    {
     "output_type": "stream",
     "name": "stdout",
     "text": [
      "{'candidates': [{'formatted_address': '5399 Adobe Falls Rd, San Diego, CA 92120, United States', 'geometry': {'location': {'lat': 32.7812233, 'lng': -117.0824267}, 'viewport': {'northeast': {'lat': 32.78265067989273, 'lng': -117.0813331701073}, 'southwest': {'lat': 32.77995102010728, 'lng': -117.0840328298927}}}, 'name': 'Rodeway Inn San Diego Near Sdsu'}], 'status': 'OK'}\n"
     ]
    }
   ],
   "source": [
    "base_url = \"https://maps.googleapis.com/maps/api/place/findplacefromtext/json?input=hotel&inputtype=textquery&fields=formatted_address,name,geometry&locationbias=circle:5000@\"\n",
    "\n",
    "search_lat = 71.9167\n",
    "search_lng = 114.0833\n",
    "\n",
    "response = requests.get(f\"{base_url}{search_lat},{search_lng}&key={g_key}\")\n",
    "data = response.json()\n",
    "print(data)"
   ]
  },
  {
   "cell_type": "code",
   "execution_count": 27,
   "metadata": {},
   "outputs": [],
   "source": [
    "base_url = \"https://maps.googleapis.com/maps/api/place/findplacefromtext/json?input=hotel&inputtype=textquery&fields=formatted_address,name,geometry&locationbias=circle:5000@\"\n",
    "\n",
    "# hotel_df=pd.DataFrame(columns=[\"Name\",\"Address\",\"Latitude\",\"Longitude\"])\n",
    "hotel_df=pd.DataFrame(columns=[\"Address\"])\n",
    "results_total = []\n",
    "# citydata_df=pd.DataFrame(columns=[\"ID\",\"Lat\",\"Long\",\"Max Temp\",\"Humidity\",\"Cloudiness\",\"Wind\",\"Country\",\"Date\"],index=city)\n",
    "\n",
    "# use iterrows to iterate through pandas dataframe\n",
    "for index, row in cities_ideal_df.iterrows():\n",
    "    search_city = row[\"City\"]\n",
    "    search_lat = row[\"Lat\"]\n",
    "    search_lng = row[\"Long\"]\n",
    "\n",
    "    # # assemble url and make API request\n",
    "    response = requests.get(f\"{base_url}{search_lat},{search_lng}&key={g_key}\").json()\n",
    "    \n",
    "    # # extract results\n",
    "    # results = response.loads(response)\n",
    "    results=(json.dumps(response, indent=4, sort_keys=True))\n",
    "    # resultsdict = json.loads(results)\n",
    "\n",
    "    results_total.append(results)\n",
    "\n",
    "    # for objects in results:\n",
    "        # hotel_name = objects[0][2]\n",
    "        # hotel_add = objects[1]\n",
    "        # hotel_lat = objects[0][1][0][0]\n",
    "        # hotel_lng = objects[0][1][0][1]\n",
    "    # for objects in results:\n",
    "    #     hotel_name = objects['candidates']['name']\n",
    "    #     hotel_add = objects['candidates']['formatted_address']\n",
    "    #     hotel_lat = objects['candidates']['geometry']['location']['lat']\n",
    "    #     hotel_lng = objects['candidates']['geometry']['location']['lng']\n",
    "    # results_list.append(results)\n",
    "\n",
    "    # hotel_name = results\n",
    "    # hotels_list.append(hotel_name)\n",
    "    # hotel_add = results[0]['candidates']['formatted_address']\n",
    "    # latlng = results[0]['geometry']['location']\n",
    "    # hotel_df.loc=[hotel_add]\n",
    "\n",
    "    # hotel_df.loc=[hotel_name,hotel_add,hotel_lat,hotel_lng]\n"
   ]
  },
  {
   "cell_type": "code",
   "execution_count": 28,
   "metadata": {},
   "outputs": [
    {
     "output_type": "stream",
     "name": "stdout",
     "text": [
      "['{\\n    \"candidates\": [\\n        {\\n            \"formatted_address\": \"4825 49th Ave, Yellowknife, NT X1A 2R3, Canada\",\\n            \"geometry\": {\\n                \"location\": {\\n                    \"lat\": 62.4575798,\\n                    \"lng\": -114.372667\\n                },\\n                \"viewport\": {\\n                    \"northeast\": {\\n                        \"lat\": 62.45848992989271,\\n                        \"lng\": -114.3708717701073\\n                    },\\n                    \"southwest\": {\\n                        \"lat\": 62.45579027010727,\\n                        \"lng\": -114.3735714298927\\n                    }\\n                }\\n            },\\n            \"name\": \"The Explorer Hotel\"\\n        }\\n    ],\\n    \"status\": \"OK\"\\n}', '{\\n    \"candidates\": [\\n        {\\n            \"formatted_address\": \"20 Victoria Hwy, Kununurra WA 6743, Australia\",\\n            \"geometry\": {\\n                \"location\": {\\n                    \"lat\": -15.782683,\\n                    \"lng\": 128.736655\\n                },\\n                \"viewport\": {\\n                    \"northeast\": {\\n                        \"lat\": -15.78160647010728,\\n                        \"lng\": 128.7383184298927\\n                    },\\n                    \"southwest\": {\\n                        \"lat\": -15.78430612989272,\\n                        \"lng\": 128.7356187701073\\n                    }\\n                }\\n            },\\n            \"name\": \"The Kimberley Grande Resort\"\\n        }\\n    ],\\n    \"status\": \"OK\"\\n}', '{\\n    \"candidates\": [\\n        {\\n            \"formatted_address\": \"5399 Adobe Falls Rd, San Diego, CA 92120, United States\",\\n            \"geometry\": {\\n                \"location\": {\\n                    \"lat\": 32.7812233,\\n                    \"lng\": -117.0824267\\n                },\\n                \"viewport\": {\\n                    \"northeast\": {\\n                        \"lat\": 32.78265067989273,\\n                        \"lng\": -117.0813331701073\\n                    },\\n                    \"southwest\": {\\n                        \"lat\": 32.77995102010728,\\n                        \"lng\": -117.0840328298927\\n                    }\\n                }\\n            },\\n            \"name\": \"Rodeway Inn San Diego Near Sdsu\"\\n        }\\n    ],\\n    \"status\": \"OK\"\\n}', '{\\n    \"candidates\": [\\n        {\\n            \"formatted_address\": \"7 Buena Vista Dr, Orangeville, ON L9W 0A2, Canada\",\\n            \"geometry\": {\\n                \"location\": {\\n                    \"lat\": 43.9213291,\\n                    \"lng\": -80.0806894\\n                },\\n                \"viewport\": {\\n                    \"northeast\": {\\n                        \"lat\": 43.92282882989272,\\n                        \"lng\": -80.07938072010727\\n                    },\\n                    \"southwest\": {\\n                        \"lat\": 43.92012917010728,\\n                        \"lng\": -80.08208037989272\\n                    }\\n                }\\n            },\\n            \"name\": \"Best Western Plus Orangeville Inn & Suites\"\\n        }\\n    ],\\n    \"status\": \"OK\"\\n}', '{\\n    \"candidates\": [\\n        {\\n            \"formatted_address\": \"Cnr Lukis And, McGregor St, Port Hedland WA 6721, Australia\",\\n            \"geometry\": {\\n                \"location\": {\\n                    \"lat\": -20.3089027,\\n                    \"lng\": 118.6100621\\n                },\\n                \"viewport\": {\\n                    \"northeast\": {\\n                        \"lat\": -20.30768992010727,\\n                        \"lng\": 118.6113451798927\\n                    },\\n                    \"southwest\": {\\n                        \"lat\": -20.31038957989271,\\n                        \"lng\": 118.6086455201072\\n                    }\\n                }\\n            },\\n            \"name\": \"Hedland Hotel\"\\n        }\\n    ],\\n    \"status\": \"OK\"\\n}', '{\\n    \"candidates\": [\\n        {\\n            \"formatted_address\": \"5399 Adobe Falls Rd, San Diego, CA 92120, United States\",\\n            \"geometry\": {\\n                \"location\": {\\n                    \"lat\": 32.7812233,\\n                    \"lng\": -117.0824267\\n                },\\n                \"viewport\": {\\n                    \"northeast\": {\\n                        \"lat\": 32.78265067989273,\\n                        \"lng\": -117.0813331701073\\n                    },\\n                    \"southwest\": {\\n                        \"lat\": 32.77995102010728,\\n                        \"lng\": -117.0840328298927\\n                    }\\n                }\\n            },\\n            \"name\": \"Rodeway Inn San Diego Near Sdsu\"\\n        }\\n    ],\\n    \"status\": \"OK\"\\n}', '{\\n    \"candidates\": [\\n        {\\n            \"formatted_address\": \"Birjand, South Khorasan Province, Iran\",\\n            \"geometry\": {\\n                \"location\": {\\n                    \"lat\": 32.8802023,\\n                    \"lng\": 59.216279\\n                },\\n                \"viewport\": {\\n                    \"northeast\": {\\n                        \"lat\": 32.88151937989272,\\n                        \"lng\": 59.21771057989272\\n                    },\\n                    \"southwest\": {\\n                        \"lat\": 32.87881972010727,\\n                        \"lng\": 59.21501092010728\\n                    }\\n                }\\n            },\\n            \"name\": \"\\\\u0647\\\\u062a\\\\u0644 \\\\u067e\\\\u0631\\\\u0648\\\\u064a\\\\u0632\"\\n        }\\n    ],\\n    \"status\": \"OK\"\\n}', '{\\n    \"candidates\": [\\n        {\\n            \"formatted_address\": \"5399 Adobe Falls Rd, San Diego, CA 92120, United States\",\\n            \"geometry\": {\\n                \"location\": {\\n                    \"lat\": 32.7812233,\\n                    \"lng\": -117.0824267\\n                },\\n                \"viewport\": {\\n                    \"northeast\": {\\n                        \"lat\": 32.78265067989273,\\n                        \"lng\": -117.0813331701073\\n                    },\\n                    \"southwest\": {\\n                        \"lat\": 32.77995102010728,\\n                        \"lng\": -117.0840328298927\\n                    }\\n                }\\n            },\\n            \"name\": \"Rodeway Inn San Diego Near Sdsu\"\\n        }\\n    ],\\n    \"status\": \"OK\"\\n}', '{\\n    \"candidates\": [\\n        {\\n            \"formatted_address\": \"20 Binhe Rd, Korla, Bayingolin Mongol Autonomous Prefecture, Xinjiang, China\",\\n            \"geometry\": {\\n                \"location\": {\\n                    \"lat\": 41.759487,\\n                    \"lng\": 86.15325\\n                },\\n                \"viewport\": {\\n                    \"northeast\": {\\n                        \"lat\": 41.76080677989272,\\n                        \"lng\": 86.15461982989272\\n                    },\\n                    \"southwest\": {\\n                        \"lat\": 41.75810712010728,\\n                        \"lng\": 86.15192017010727\\n                    }\\n                }\\n            },\\n            \"name\": \"The Garden Hotel Korla\"\\n        }\\n    ],\\n    \"status\": \"OK\"\\n}', '{\\n    \"candidates\": [\\n        {\\n            \"formatted_address\": \"5399 Adobe Falls Rd, San Diego, CA 92120, United States\",\\n            \"geometry\": {\\n                \"location\": {\\n                    \"lat\": 32.7812233,\\n                    \"lng\": -117.0824267\\n                },\\n                \"viewport\": {\\n                    \"northeast\": {\\n                        \"lat\": 32.78265067989273,\\n                        \"lng\": -117.0813331701073\\n                    },\\n                    \"southwest\": {\\n                        \"lat\": 32.77995102010728,\\n                        \"lng\": -117.0840328298927\\n                    }\\n                }\\n            },\\n            \"name\": \"Rodeway Inn San Diego Near Sdsu\"\\n        }\\n    ],\\n    \"status\": \"OK\"\\n}', '{\\n    \"candidates\": [\\n        {\\n            \"formatted_address\": \"5150 N Wingate Dr, Decatur, IL 62526, United States\",\\n            \"geometry\": {\\n                \"location\": {\\n                    \"lat\": 39.9117463,\\n                    \"lng\": -88.9514655\\n                },\\n                \"viewport\": {\\n                    \"northeast\": {\\n                        \"lat\": 39.91337532989273,\\n                        \"lng\": -88.95031842010728\\n                    },\\n                    \"southwest\": {\\n                        \"lat\": 39.91067567010728,\\n                        \"lng\": -88.95301807989273\\n                    }\\n                }\\n            },\\n            \"name\": \"Holiday Inn & Suites Decatur-Forsyth, an IHG Hotel\"\\n        }\\n    ],\\n    \"status\": \"OK\"\\n}', '{\\n    \"candidates\": [\\n        {\\n            \"formatted_address\": \"# 160 Hwy 10-A north, Flin Flon, MB R8A 0C6, Canada\",\\n            \"geometry\": {\\n                \"location\": {\\n                    \"lat\": 54.7687301,\\n                    \"lng\": -101.8431759\\n                },\\n                \"viewport\": {\\n                    \"northeast\": {\\n                        \"lat\": 54.77033027989272,\\n                        \"lng\": -101.8417838201073\\n                    },\\n                    \"southwest\": {\\n                        \"lat\": 54.76763062010728,\\n                        \"lng\": -101.8444834798927\\n                    }\\n                }\\n            },\\n            \"name\": \"Victoria Inn Flin Flon\"\\n        }\\n    ],\\n    \"status\": \"OK\"\\n}', '{\\n    \"candidates\": [\\n        {\\n            \"formatted_address\": \"Saltwater Rd, Lenakel, Vanuatu\",\\n            \"geometry\": {\\n                \"location\": {\\n                    \"lat\": -19.441433,\\n                    \"lng\": 169.224922\\n                },\\n                \"viewport\": {\\n                    \"northeast\": {\\n                        \"lat\": -19.44007702010728,\\n                        \"lng\": 169.2262366298927\\n                    },\\n                    \"southwest\": {\\n                        \"lat\": -19.44277667989272,\\n                        \"lng\": 169.2235369701073\\n                    }\\n                }\\n            },\\n            \"name\": \"White Grass Ocean Resort & Spa\"\\n        }\\n    ],\\n    \"status\": \"OK\"\\n}', '{\\n    \"candidates\": [\\n        {\\n            \"formatted_address\": \"China, Hulunbuir, \\\\u706b\\\\u8f66\\\\u7ad9\\\\u524d\\\\u5e7f\\\\u573a\\\\u5929\\\\u987a\\\\u65b0\\\\u57ce\\\\u4e00\\\\u671f1\\\\u53f7\\\\u697c \\\\u90ae\\\\u653f\\\\u7f16\\\\u7801: 021000\",\\n            \"geometry\": {\\n                \"location\": {\\n                    \"lat\": 49.227448,\\n                    \"lng\": 119.746461\\n                },\\n                \"viewport\": {\\n                    \"northeast\": {\\n                        \"lat\": 49.22875562989272,\\n                        \"lng\": 119.7477617298928\\n                    },\\n                    \"southwest\": {\\n                        \"lat\": 49.22605597010728,\\n                        \"lng\": 119.7450620701073\\n                    }\\n                }\\n            },\\n            \"name\": \"Holiday Inn & Suites Hulunbuir\"\\n        }\\n    ],\\n    \"status\": \"OK\"\\n}', '{\\n    \"candidates\": [\\n        {\\n            \"formatted_address\": \"1 Bennet Road, Aklavik, NT X0E 0A0, Canada\",\\n            \"geometry\": {\\n                \"location\": {\\n                    \"lat\": 68.2191796,\\n                    \"lng\": -135.0129116\\n                },\\n                \"viewport\": {\\n                    \"northeast\": {\\n                        \"lat\": 68.22052772989272,\\n                        \"lng\": -135.0115716701073\\n                    },\\n                    \"southwest\": {\\n                        \"lat\": 68.21782807010727,\\n                        \"lng\": -135.0142713298928\\n                    }\\n                }\\n            },\\n            \"name\": \"Sundog Inn\"\\n        }\\n    ],\\n    \"status\": \"OK\"\\n}', '{\\n    \"candidates\": [\\n        {\\n            \"formatted_address\": \"\\\\u0160antovo n\\\\u00e1m. 181, M\\\\u011bsto, 570 01 Litomy\\\\u0161l, Czechia\",\\n            \"geometry\": {\\n                \"location\": {\\n                    \"lat\": 49.8709275,\\n                    \"lng\": 16.3129566\\n                },\\n                \"viewport\": {\\n                    \"northeast\": {\\n                        \"lat\": 49.87208207989272,\\n                        \"lng\": 16.31422977989272\\n                    },\\n                    \"southwest\": {\\n                        \"lat\": 49.86938242010727,\\n                        \"lng\": 16.31153012010728\\n                    }\\n                }\\n            },\\n            \"name\": \"Hotel Aplaus\"\\n        }\\n    ],\\n    \"status\": \"OK\"\\n}', '{\\n    \"candidates\": [\\n        {\\n            \"formatted_address\": \"5399 Adobe Falls Rd, San Diego, CA 92120, United States\",\\n            \"geometry\": {\\n                \"location\": {\\n                    \"lat\": 32.7812233,\\n                    \"lng\": -117.0824267\\n                },\\n                \"viewport\": {\\n                    \"northeast\": {\\n                        \"lat\": 32.78265067989273,\\n                        \"lng\": -117.0813331701073\\n                    },\\n                    \"southwest\": {\\n                        \"lat\": 32.77995102010728,\\n                        \"lng\": -117.0840328298927\\n                    }\\n                }\\n            },\\n            \"name\": \"Rodeway Inn San Diego Near Sdsu\"\\n        }\\n    ],\\n    \"status\": \"OK\"\\n}', '{\\n    \"candidates\": [\\n        {\\n            \"formatted_address\": \"\\\\u0627\\\\u0645\\\\u0627 \\\\u062f\\\\u064a\\\\u0631 \\\\u0627\\\\u0644\\\\u0639\\\\u0630\\\\u0631\\\\u0627\\\\u0621 \\\\u0628\\\\u062c\\\\u0628\\\\u0644\\\\u060c \\\\u062f\\\\u0631\\\\u0646\\\\u0643\\\\u0647-\\\\u0627\\\\u0633\\\\u064a\\\\u0648\\\\u0637\\\\u060c Asyut First, Assiut Governorate, Egypt\",\\n            \"geometry\": {\\n                \"location\": {\\n                    \"lat\": 27.1158075,\\n                    \"lng\": 31.1706962\\n                },\\n                \"viewport\": {\\n                    \"northeast\": {\\n                        \"lat\": 27.11713112989272,\\n                        \"lng\": 31.17218107989272\\n                    },\\n                    \"southwest\": {\\n                        \"lat\": 27.11443147010728,\\n                        \"lng\": 31.16948142010728\\n                    }\\n                }\\n            },\\n            \"name\": \"\\\\u0628\\\\u064a\\\\u062a \\\\u0627\\\\u0644\\\\u0642\\\\u062f\\\\u064a\\\\u0633\\\\u0629 \\\\u0645\\\\u0631\\\\u064a\\\\u0645 St Marie House\"\\n        }\\n    ],\\n    \"status\": \"OK\"\\n}', '{\\n    \"candidates\": [\\n        {\\n            \"formatted_address\": \"5399 Adobe Falls Rd, San Diego, CA 92120, United States\",\\n            \"geometry\": {\\n                \"location\": {\\n                    \"lat\": 32.7812233,\\n                    \"lng\": -117.0824267\\n                },\\n                \"viewport\": {\\n                    \"northeast\": {\\n                        \"lat\": 32.78265067989273,\\n                        \"lng\": -117.0813331701073\\n                    },\\n                    \"southwest\": {\\n                        \"lat\": 32.77995102010728,\\n                        \"lng\": -117.0840328298927\\n                    }\\n                }\\n            },\\n            \"name\": \"Rodeway Inn San Diego Near Sdsu\"\\n        }\\n    ],\\n    \"status\": \"OK\"\\n}', '{\\n    \"candidates\": [\\n        {\\n            \"formatted_address\": \"26 \\\\u0410lisher Navoi Street, Fergana, Uzbekistan\",\\n            \"geometry\": {\\n                \"location\": {\\n                    \"lat\": 40.3784736,\\n                    \"lng\": 71.7873322\\n                },\\n                \"viewport\": {\\n                    \"northeast\": {\\n                        \"lat\": 40.37978402989273,\\n                        \"lng\": 71.7887797798927\\n                    },\\n                    \"southwest\": {\\n                        \"lat\": 40.37708437010728,\\n                        \"lng\": 71.78608012010727\\n                    }\\n                }\\n            },\\n            \"name\": \"Hotel Asia Fergana\"\\n        }\\n    ],\\n    \"status\": \"OK\"\\n}', '{\\n    \"candidates\": [\\n        {\\n            \"formatted_address\": \"3015 Riverside Dr, Susanville, CA 96130, United States\",\\n            \"geometry\": {\\n                \"location\": {\\n                    \"lat\": 40.4070001,\\n                    \"lng\": -120.6325284\\n                },\\n                \"viewport\": {\\n                    \"northeast\": {\\n                        \"lat\": 40.40784737989271,\\n                        \"lng\": -120.62986545\\n                    },\\n                    \"southwest\": {\\n                        \"lat\": 40.40514772010727,\\n                        \"lng\": -120.63341605\\n                    }\\n                }\\n            },\\n            \"name\": \"Comfort Inn & Suites Susanville\"\\n        }\\n    ],\\n    \"status\": \"OK\"\\n}', '{\\n    \"candidates\": [\\n        {\\n            \"formatted_address\": \"Luau, Angola\",\\n            \"geometry\": {\\n                \"location\": {\\n                    \"lat\": -10.7050983,\\n                    \"lng\": 22.2284206\\n                },\\n                \"viewport\": {\\n                    \"northeast\": {\\n                        \"lat\": -10.70372152010728,\\n                        \"lng\": 22.22976157989272\\n                    },\\n                    \"southwest\": {\\n                        \"lat\": -10.70642117989272,\\n                        \"lng\": 22.22706192010728\\n                    }\\n                }\\n            },\\n            \"name\": \"Kimbo Hotel\"\\n        }\\n    ],\\n    \"status\": \"OK\"\\n}', '{\\n    \"candidates\": [\\n        {\\n            \"formatted_address\": \"137 Haines Hwy, Haines Junction, YT Y0B 1L0, Canada\",\\n            \"geometry\": {\\n                \"location\": {\\n                    \"lat\": 60.7509613,\\n                    \"lng\": -137.509796\\n                },\\n                \"viewport\": {\\n                    \"northeast\": {\\n                        \"lat\": 60.75237512989272,\\n                        \"lng\": -137.5080900701073\\n                    },\\n                    \"southwest\": {\\n                        \"lat\": 60.74967547010728,\\n                        \"lng\": -137.5107897298927\\n                    }\\n                }\\n            },\\n            \"name\": \"Parkside Inn\"\\n        }\\n    ],\\n    \"status\": \"OK\"\\n}', '{\\n    \"candidates\": [\\n        {\\n            \"formatted_address\": \"6 Liverpool Street, Dunedin Central, Dunedin 9016, New Zealand\",\\n            \"geometry\": {\\n                \"location\": {\\n                    \"lat\": -45.8788448,\\n                    \"lng\": 170.5016356\\n                },\\n                \"viewport\": {\\n                    \"northeast\": {\\n                        \"lat\": -45.87757442010727,\\n                        \"lng\": 170.5029411298927\\n                    },\\n                    \"southwest\": {\\n                        \"lat\": -45.88027407989272,\\n                        \"lng\": 170.5002414701073\\n                    }\\n                }\\n            },\\n            \"name\": \"Distinction Dunedin Hotel\"\\n        }\\n    ],\\n    \"status\": \"OK\"\\n}', '{\\n    \"candidates\": [\\n        {\\n            \"formatted_address\": \"China, Heilongjiang, Suihua, Hailun, Xiangyang St, \\\\u5411\\\\u9633\\\\u5927\\\\u8857\",\\n            \"geometry\": {\\n                \"location\": {\\n                    \"lat\": 47.454542,\\n                    \"lng\": 126.961566\\n                },\\n                \"viewport\": {\\n                    \"northeast\": {\\n                        \"lat\": 47.45591817989272,\\n                        \"lng\": 126.9630238798927\\n                    },\\n                    \"southwest\": {\\n                        \"lat\": 47.45321852010727,\\n                        \"lng\": 126.9603242201073\\n                    }\\n                }\\n            },\\n            \"name\": \"Wanhao Hotel\"\\n        }\\n    ],\\n    \"status\": \"OK\"\\n}', '{\\n    \"candidates\": [\\n        {\\n            \"formatted_address\": \"Shuimogou District, \\\\u00dcr\\\\u00fcmqi, China\",\\n            \"geometry\": {\\n                \"location\": {\\n                    \"lat\": 43.82055700000001,\\n                    \"lng\": 87.60707000000001\\n                },\\n                \"viewport\": {\\n                    \"northeast\": {\\n                        \"lat\": 43.82186507989273,\\n                        \"lng\": 87.60829137989272\\n                    },\\n                    \"southwest\": {\\n                        \"lat\": 43.81916542010729,\\n                        \"lng\": 87.60559172010728\\n                    }\\n                }\\n            },\\n            \"name\": \"JinJiang International Hotel Urumqi\"\\n        }\\n    ],\\n    \"status\": \"OK\"\\n}', '{\\n    \"candidates\": [\\n        {\\n            \"formatted_address\": \"1 Sunridge Ln, Baker City, OR 97814, United States\",\\n            \"geometry\": {\\n                \"location\": {\\n                    \"lat\": 44.7832042,\\n                    \"lng\": -117.8127748\\n                },\\n                \"viewport\": {\\n                    \"northeast\": {\\n                        \"lat\": 44.78448897989273,\\n                        \"lng\": -117.8113897701073\\n                    },\\n                    \"southwest\": {\\n                        \"lat\": 44.78178932010729,\\n                        \"lng\": -117.8140894298927\\n                    }\\n                }\\n            },\\n            \"name\": \"Quality Inn Sunridge Inn and Conference Center\"\\n        }\\n    ],\\n    \"status\": \"OK\"\\n}', '{\\n    \"candidates\": [\\n        {\\n            \"formatted_address\": \"4 Xincheng Rd, Yarkant County, Kashgar Prefecture, Xinjiang, China\",\\n            \"geometry\": {\\n                \"location\": {\\n                    \"lat\": 38.414222,\\n                    \"lng\": 77.247519\\n                },\\n                \"viewport\": {\\n                    \"northeast\": {\\n                        \"lat\": 38.41548242989272,\\n                        \"lng\": 77.24886912989273\\n                    },\\n                    \"southwest\": {\\n                        \"lat\": 38.41278277010728,\\n                        \"lng\": 77.24616947010728\\n                    }\\n                }\\n            },\\n            \"name\": \"Xinsheng Hotel\"\\n        }\\n    ],\\n    \"status\": \"OK\"\\n}', '{\\n    \"candidates\": [\\n        {\\n            \"formatted_address\": \"57 Olivia Terrace, Carnarvon WA 6701, Australia\",\\n            \"geometry\": {\\n                \"location\": {\\n                    \"lat\": -24.883085,\\n                    \"lng\": 113.6550593\\n                },\\n                \"viewport\": {\\n                    \"northeast\": {\\n                        \"lat\": -24.88168852010728,\\n                        \"lng\": 113.6563421298927\\n                    },\\n                    \"southwest\": {\\n                        \"lat\": -24.88438817989272,\\n                        \"lng\": 113.6536424701073\\n                    }\\n                }\\n            },\\n            \"name\": \"The Gascoyne Hotel\"\\n        }\\n    ],\\n    \"status\": \"OK\"\\n}', '{\\n    \"candidates\": [\\n        {\\n            \"formatted_address\": \"Kaliua, Tanzania\",\\n            \"geometry\": {\\n                \"location\": {\\n                    \"lat\": -5.062439599999999,\\n                    \"lng\": 31.7936055\\n                },\\n                \"viewport\": {\\n                    \"northeast\": {\\n                        \"lat\": -5.061090970107278,\\n                        \"lng\": 31.79495942989272\\n                    },\\n                    \"southwest\": {\\n                        \"lat\": -5.063790629892722,\\n                        \"lng\": 31.79225977010728\\n                    }\\n                }\\n            },\\n            \"name\": \"MILLENNIUM COMPLEX &LODGING\"\\n        }\\n    ],\\n    \"status\": \"OK\"\\n}', '{\\n    \"candidates\": [\\n        {\\n            \"formatted_address\": \"K. Hussein St., Aqaba, Jordan\",\\n            \"geometry\": {\\n                \"location\": {\\n                    \"lat\": 29.5319648,\\n                    \"lng\": 34.9973606\\n                },\\n                \"viewport\": {\\n                    \"northeast\": {\\n                        \"lat\": 29.53351587989272,\\n                        \"lng\": 34.99894277989272\\n                    },\\n                    \"southwest\": {\\n                        \"lat\": 29.53081622010728,\\n                        \"lng\": 34.99624312010727\\n                    }\\n                }\\n            },\\n            \"name\": \"Kempinski Hotel Aqaba Red Sea\"\\n        }\\n    ],\\n    \"status\": \"OK\"\\n}', '{\\n    \"candidates\": [\\n        {\\n            \"formatted_address\": \"Fetisova Street 57, Bautino 130502, Kazakhstan\",\\n            \"geometry\": {\\n                \"location\": {\\n                    \"lat\": 44.55261,\\n                    \"lng\": 50.24917800000001\\n                },\\n                \"viewport\": {\\n                    \"northeast\": {\\n                        \"lat\": 44.55394752989273,\\n                        \"lng\": 50.25046942989272\\n                    },\\n                    \"southwest\": {\\n                        \"lat\": 44.55124787010729,\\n                        \"lng\": 50.24776977010728\\n                    }\\n                }\\n            },\\n            \"name\": \"Chagala Bautino Hotel\"\\n        }\\n    ],\\n    \"status\": \"OK\"\\n}', '{\\n    \"candidates\": [\\n        {\\n            \"formatted_address\": \"5 Nielsen Pl, Dampier WA 6713, Australia\",\\n            \"geometry\": {\\n                \"location\": {\\n                    \"lat\": -20.6628587,\\n                    \"lng\": 116.7048843\\n                },\\n                \"viewport\": {\\n                    \"northeast\": {\\n                        \"lat\": -20.66131097010728,\\n                        \"lng\": 116.7065908798927\\n                    },\\n                    \"southwest\": {\\n                        \"lat\": -20.66401062989272,\\n                        \"lng\": 116.7038912201073\\n                    }\\n                }\\n            },\\n            \"name\": \"Dampier Mermaid Hotel\"\\n        }\\n    ],\\n    \"status\": \"OK\"\\n}', '{\\n    \"candidates\": [\\n        {\\n            \"formatted_address\": \"44 Bartley Ct, Karratha WA 6720, Australia\",\\n            \"geometry\": {\\n                \"location\": {\\n                    \"lat\": -20.6306828,\\n                    \"lng\": 117.1961948\\n                },\\n                \"viewport\": {\\n                    \"northeast\": {\\n                        \"lat\": -20.62932592010728,\\n                        \"lng\": 117.1975574298927\\n                    },\\n                    \"southwest\": {\\n                        \"lat\": -20.63202557989272,\\n                        \"lng\": 117.1948577701072\\n                    }\\n                }\\n            },\\n            \"name\": \"Samson Beach Chalets\"\\n        }\\n    ],\\n    \"status\": \"OK\"\\n}', '{\\n    \"candidates\": [\\n        {\\n            \"formatted_address\": \"5399 Adobe Falls Rd, San Diego, CA 92120, United States\",\\n            \"geometry\": {\\n                \"location\": {\\n                    \"lat\": 32.7812233,\\n                    \"lng\": -117.0824267\\n                },\\n                \"viewport\": {\\n                    \"northeast\": {\\n                        \"lat\": 32.78265067989273,\\n                        \"lng\": -117.0813331701073\\n                    },\\n                    \"southwest\": {\\n                        \"lat\": 32.77995102010728,\\n                        \"lng\": -117.0840328298927\\n                    }\\n                }\\n            },\\n            \"name\": \"Rodeway Inn San Diego Near Sdsu\"\\n        }\\n    ],\\n    \"status\": \"OK\"\\n}', '{\\n    \"candidates\": [\\n        {\\n            \"formatted_address\": \"\\\\u0443\\\\u043b\\\\u0438\\\\u0446\\\\u0430 60 \\\\u043b\\\\u0435\\\\u0442 \\\\u0412\\\\u041b\\\\u041a\\\\u0421\\\\u041c, \\\\u0437\\\\u0434\\\\u0430\\\\u043d\\\\u0438\\\\u0435 1, Udachnyy, Yakutia, Russia, 678188\",\\n            \"geometry\": {\\n                \"location\": {\\n                    \"lat\": 66.407021,\\n                    \"lng\": 112.297781\\n                },\\n                \"viewport\": {\\n                    \"northeast\": {\\n                        \"lat\": 66.40833357989273,\\n                        \"lng\": 112.2996541798927\\n                    },\\n                    \"southwest\": {\\n                        \"lat\": 66.40563392010728,\\n                        \"lng\": 112.2969545201073\\n                    }\\n                }\\n            },\\n            \"name\": \"\\\\u0413\\\\u043e\\\\u0441\\\\u0442\\\\u0438\\\\u043d\\\\u0438\\\\u0446\\\\u0430 \\\\u0421\\\\u0415\\\\u0412\\\\u0415\\\\u0420\\\\u041d\\\\u041e\\\\u0415 \\\\u0421\\\\u0418\\\\u042f\\\\u041d\\\\u0418\\\\u0415\"\\n        }\\n    ],\\n    \"status\": \"OK\"\\n}', '{\\n    \"candidates\": [\\n        {\\n            \"formatted_address\": \"9150 US-101, Los Alamos, CA 93440, United States\",\\n            \"geometry\": {\\n                \"location\": {\\n                    \"lat\": 34.7446211,\\n                    \"lng\": -120.2718202\\n                },\\n                \"viewport\": {\\n                    \"northeast\": {\\n                        \"lat\": 34.74604222989272,\\n                        \"lng\": -120.2704353701073\\n                    },\\n                    \"southwest\": {\\n                        \"lat\": 34.74334257010728,\\n                        \"lng\": -120.2731350298927\\n                    }\\n                }\\n            },\\n            \"name\": \"Skyview Los Alamos\"\\n        }\\n    ],\\n    \"status\": \"OK\"\\n}', '{\\n    \"candidates\": [\\n        {\\n            \"formatted_address\": \"Ulitsa Pushkina, 40, Vilyuysk, Sakha Republic, Russia, 678200\",\\n            \"geometry\": {\\n                \"location\": {\\n                    \"lat\": 63.7481533,\\n                    \"lng\": 121.6243769\\n                },\\n                \"viewport\": {\\n                    \"northeast\": {\\n                        \"lat\": 63.74952807989273,\\n                        \"lng\": 121.6260853798927\\n                    },\\n                    \"southwest\": {\\n                        \"lat\": 63.74682842010728,\\n                        \"lng\": 121.6233857201073\\n                    }\\n                }\\n            },\\n            \"name\": \"Gostinitsa Viliuisk\"\\n        }\\n    ],\\n    \"status\": \"OK\"\\n}', '{\\n    \"candidates\": [\\n        {\\n            \"formatted_address\": \"Abha Al Jadidah, 6497 - \\\\u062d\\\\u064a - 3731\\\\u060c Abha 62512, Saudi Arabia\",\\n            \"geometry\": {\\n                \"location\": {\\n                    \"lat\": 18.210219,\\n                    \"lng\": 42.4830969\\n                },\\n                \"viewport\": {\\n                    \"northeast\": {\\n                        \"lat\": 18.21156277989272,\\n                        \"lng\": 42.48426927989272\\n                    },\\n                    \"southwest\": {\\n                        \"lat\": 18.20886312010728,\\n                        \"lng\": 42.48156962010727\\n                    }\\n                }\\n            },\\n            \"name\": \"Abha Palace Hotel\"\\n        }\\n    ],\\n    \"status\": \"OK\"\\n}', '{\\n    \"candidates\": [\\n        {\\n            \"formatted_address\": \"5399 Adobe Falls Rd, San Diego, CA 92120, United States\",\\n            \"geometry\": {\\n                \"location\": {\\n                    \"lat\": 32.7812233,\\n                    \"lng\": -117.0824267\\n                },\\n                \"viewport\": {\\n                    \"northeast\": {\\n                        \"lat\": 32.78265067989273,\\n                        \"lng\": -117.0813331701073\\n                    },\\n                    \"southwest\": {\\n                        \"lat\": 32.77995102010728,\\n                        \"lng\": -117.0840328298927\\n                    }\\n                }\\n            },\\n            \"name\": \"Rodeway Inn San Diego Near Sdsu\"\\n        }\\n    ],\\n    \"status\": \"OK\"\\n}', '{\\n    \"candidates\": [\\n        {\\n            \"formatted_address\": \"1327 La Ronge Ave, La Ronge, SK S0J 1L0, Canada\",\\n            \"geometry\": {\\n                \"location\": {\\n                    \"lat\": 55.1043548,\\n                    \"lng\": -105.2794036\\n                },\\n                \"viewport\": {\\n                    \"northeast\": {\\n                        \"lat\": 55.10589842989273,\\n                        \"lng\": -105.2782137201073\\n                    },\\n                    \"southwest\": {\\n                        \"lat\": 55.10319877010728,\\n                        \"lng\": -105.2809133798927\\n                    }\\n                }\\n            },\\n            \"name\": \"The Harbour Inn\"\\n        }\\n    ],\\n    \"status\": \"OK\"\\n}', '{\\n    \"candidates\": [\\n        {\\n            \"formatted_address\": \"3251 BC-16, Smithers, BC V0J 2N0, Canada\",\\n            \"geometry\": {\\n                \"location\": {\\n                    \"lat\": 54.7740136,\\n                    \"lng\": -127.1562942\\n                },\\n                \"viewport\": {\\n                    \"northeast\": {\\n                        \"lat\": 54.77557077989272,\\n                        \"lng\": -127.1546861701073\\n                    },\\n                    \"southwest\": {\\n                        \"lat\": 54.77287112010728,\\n                        \"lng\": -127.1573858298927\\n                    }\\n                }\\n            },\\n            \"name\": \"Prestige Hudson Bay Lodge, Premier Collection\"\\n        }\\n    ],\\n    \"status\": \"OK\"\\n}', '{\\n    \"candidates\": [\\n        {\\n            \"formatted_address\": \"2 La Motte, 86230 Usseau, France\",\\n            \"geometry\": {\\n                \"location\": {\\n                    \"lat\": 46.8797222,\\n                    \"lng\": 0.5086111\\n                },\\n                \"viewport\": {\\n                    \"northeast\": {\\n                        \"lat\": 46.88112942989272,\\n                        \"lng\": 0.5097897798927221\\n                    },\\n                    \"southwest\": {\\n                        \"lat\": 46.87842977010727,\\n                        \"lng\": 0.5070901201072777\\n                    }\\n                }\\n            },\\n            \"name\": \"Ch\\\\u00e2teau de la Motte Usseau\"\\n        }\\n    ],\\n    \"status\": \"OK\"\\n}', '{\\n    \"candidates\": [\\n        {\\n            \"formatted_address\": \"Pouembout, New Caledonia\",\\n            \"geometry\": {\\n                \"location\": {\\n                    \"lat\": -21.1382408,\\n                    \"lng\": 165.0506517\\n                },\\n                \"viewport\": {\\n                    \"northeast\": {\\n                        \"lat\": -21.13689097010728,\\n                        \"lng\": 165.0520015298927\\n                    },\\n                    \"southwest\": {\\n                        \"lat\": -21.13959062989272,\\n                        \"lng\": 165.0493018701073\\n                    }\\n                }\\n            },\\n            \"name\": \"paddock de la boutana\"\\n        }\\n    ],\\n    \"status\": \"OK\"\\n}', '{\\n    \"candidates\": [\\n        {\\n            \"formatted_address\": \"5399 Adobe Falls Rd, San Diego, CA 92120, United States\",\\n            \"geometry\": {\\n                \"location\": {\\n                    \"lat\": 32.7812233,\\n                    \"lng\": -117.0824267\\n                },\\n                \"viewport\": {\\n                    \"northeast\": {\\n                        \"lat\": 32.78265067989273,\\n                        \"lng\": -117.0813331701073\\n                    },\\n                    \"southwest\": {\\n                        \"lat\": 32.77995102010728,\\n                        \"lng\": -117.0840328298927\\n                    }\\n                }\\n            },\\n            \"name\": \"Rodeway Inn San Diego Near Sdsu\"\\n        }\\n    ],\\n    \"status\": \"OK\"\\n}', '{\\n    \"candidates\": [\\n        {\\n            \"formatted_address\": \"5399 Adobe Falls Rd, San Diego, CA 92120, United States\",\\n            \"geometry\": {\\n                \"location\": {\\n                    \"lat\": 32.7812233,\\n                    \"lng\": -117.0824267\\n                },\\n                \"viewport\": {\\n                    \"northeast\": {\\n                        \"lat\": 32.78265067989273,\\n                        \"lng\": -117.0813331701073\\n                    },\\n                    \"southwest\": {\\n                        \"lat\": 32.77995102010728,\\n                        \"lng\": -117.0840328298927\\n                    }\\n                }\\n            },\\n            \"name\": \"Rodeway Inn San Diego Near Sdsu\"\\n        }\\n    ],\\n    \"status\": \"OK\"\\n}', '{\\n    \"candidates\": [\\n        {\\n            \"formatted_address\": \"Av. Allende #701, Centro, 31680 Guerrero, Chih., Mexico\",\\n            \"geometry\": {\\n                \"location\": {\\n                    \"lat\": 28.5492371,\\n                    \"lng\": -107.4870044\\n                },\\n                \"viewport\": {\\n                    \"northeast\": {\\n                        \"lat\": 28.55060732989272,\\n                        \"lng\": -107.4857741201073\\n                    },\\n                    \"southwest\": {\\n                        \"lat\": 28.54790767010728,\\n                        \"lng\": -107.4884737798927\\n                    }\\n                }\\n            },\\n            \"name\": \"Hotel Caba\\\\u00f1as Victoria\"\\n        }\\n    ],\\n    \"status\": \"OK\"\\n}']\n"
     ]
    }
   ],
   "source": [
    "print(results_total)\n"
   ]
  },
  {
   "cell_type": "code",
   "execution_count": 26,
   "metadata": {},
   "outputs": [
    {
     "output_type": "stream",
     "name": "stdout",
     "text": [
      "                                          candidates status\n0  {'formatted_address': '20 Victoria Hwy, Kununu...     OK\n"
     ]
    }
   ],
   "source": [
    "results_df = pd.DataFrame(results_total[1])\n",
    "print(results_df)"
   ]
  },
  {
   "cell_type": "code",
   "execution_count": null,
   "metadata": {},
   "outputs": [],
   "source": []
  },
  {
   "cell_type": "code",
   "execution_count": null,
   "metadata": {},
   "outputs": [],
   "source": []
  },
  {
   "source": [
    "print(results_list)"
   ],
   "cell_type": "markdown",
   "metadata": {}
  },
  {
   "cell_type": "code",
   "execution_count": 15,
   "metadata": {},
   "outputs": [],
   "source": [
    "# # NOTE: Do not change any of the code in this cell\n",
    "\n",
    "# # Using the template add the hotel marks to the heatmap\n",
    "# info_box_template = \"\"\"\n",
    "# <dl>\n",
    "# <dt>Name</dt><dd>{Hotel Name}</dd>\n",
    "# <dt>City</dt><dd>{City}</dd>\n",
    "# <dt>Country</dt><dd>{Country}</dd>\n",
    "# </dl>\n",
    "# \"\"\"\n",
    "# # Store the DataFrame Row\n",
    "# # NOTE: be sure to update with your DataFrame name\n",
    "# hotel_info = [info_box_template.format(**row) for index, row in hotel_df.iterrows()]\n",
    "# locations = hotel_df[[\"Lat\", \"Lng\"]]"
   ]
  },
  {
   "cell_type": "code",
   "execution_count": 16,
   "metadata": {},
   "outputs": [],
   "source": [
    "# Add marker layer ontop of heat map\n",
    "\n",
    "\n",
    "# Display figure\n"
   ]
  },
  {
   "cell_type": "code",
   "execution_count": null,
   "metadata": {},
   "outputs": [],
   "source": []
  }
 ],
 "metadata": {
  "kernelspec": {
   "name": "python3",
   "display_name": "Python 3.8.5 64-bit ('base': conda)"
  },
  "language_info": {
   "codemirror_mode": {
    "name": "ipython",
    "version": 3
   },
   "file_extension": ".py",
   "mimetype": "text/x-python",
   "name": "python",
   "nbconvert_exporter": "python",
   "pygments_lexer": "ipython3",
   "version": "3.8.5"
  },
  "latex_envs": {
   "LaTeX_envs_menu_present": true,
   "autoclose": false,
   "autocomplete": true,
   "bibliofile": "biblio.bib",
   "cite_by": "apalike",
   "current_citInitial": 1,
   "eqLabelWithNumbers": true,
   "eqNumInitial": 1,
   "hotkeys": {
    "equation": "Ctrl-E",
    "itemize": "Ctrl-I"
   },
   "labels_anchors": false,
   "latex_user_defs": false,
   "report_style_numbering": false,
   "user_envs_cfg": false
  },
  "interpreter": {
   "hash": "529132a0304f6942232d254cf48ed3625da64896b65b1a7f769697594a4a7c46"
  }
 },
 "nbformat": 4,
 "nbformat_minor": 4
}